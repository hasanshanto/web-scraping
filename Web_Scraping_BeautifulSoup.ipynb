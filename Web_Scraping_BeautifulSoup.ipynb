{
  "nbformat": 4,
  "nbformat_minor": 0,
  "metadata": {
    "colab": {
      "provenance": [],
      "collapsed_sections": [],
      "toc_visible": true
    },
    "kernelspec": {
      "name": "python3",
      "display_name": "Python 3"
    },
    "language_info": {
      "name": "python"
    }
  },
  "cells": [
    {
      "cell_type": "markdown",
      "source": [
        "# **Quick Start**"
      ],
      "metadata": {
        "id": "Bm7Bl9uvldtP"
      }
    },
    {
      "cell_type": "markdown",
      "source": [
        "**Import Beautiful Soup**"
      ],
      "metadata": {
        "id": "HMjHhVJ3WzZB"
      }
    },
    {
      "cell_type": "code",
      "execution_count": null,
      "metadata": {
        "id": "5o3HXdTrWuXm"
      },
      "outputs": [],
      "source": [
        "from bs4 import BeautifulSoup"
      ]
    },
    {
      "cell_type": "markdown",
      "source": [
        "Here’s an HTML document I’ll be using as an example throughout this document. It’s part of a story from Alice in Wonderland:"
      ],
      "metadata": {
        "id": "S9ct58ysXaMX"
      }
    },
    {
      "cell_type": "code",
      "source": [
        "html_doc = \"\"\"<html><head><title>The Dormouse's story</title></head>\n",
        "<body>\n",
        "<p class=\"title\"><b>The Dormouse's story</b></p>\n",
        "\n",
        "<p class=\"story\">Once upon a time there were three little sisters; and their names were\n",
        "<a href=\"http://example.com/elsie\" class=\"sister\" id=\"link1\">Elsie</a>,\n",
        "<a href=\"http://example.com/lacie\" class=\"sister\" id=\"link2\">Lacie</a> and\n",
        "<a href=\"http://example.com/tillie\" class=\"sister\" id=\"link3\">Tillie</a>;\n",
        "and they lived at the bottom of a well.</p>\n",
        "\n",
        "<p class=\"story\">...</p>\n",
        "\"\"\""
      ],
      "metadata": {
        "id": "WevtClxyXAlh"
      },
      "execution_count": null,
      "outputs": []
    },
    {
      "cell_type": "markdown",
      "source": [
        "Running the “three sisters” document through Beautiful Soup gives us a BeautifulSoup object, which represents the document as a nested data structure:"
      ],
      "metadata": {
        "id": "t22C58bbX93F"
      }
    },
    {
      "cell_type": "code",
      "source": [
        "soup = BeautifulSoup(html_doc, 'html.parser')\n",
        "print(soup.prettify())"
      ],
      "metadata": {
        "colab": {
          "base_uri": "https://localhost:8080/"
        },
        "id": "YE1V-GITfjPX",
        "outputId": "27c73142-1078-4c86-ddf8-225972be2afe"
      },
      "execution_count": null,
      "outputs": [
        {
          "output_type": "stream",
          "name": "stdout",
          "text": [
            "<html>\n",
            " <head>\n",
            "  <title>\n",
            "   The Dormouse's story\n",
            "  </title>\n",
            " </head>\n",
            " <body>\n",
            "  <p class=\"title\">\n",
            "   <b>\n",
            "    The Dormouse's story\n",
            "   </b>\n",
            "  </p>\n",
            "  <p class=\"story\">\n",
            "   Once upon a time there were three little sisters; and their names were\n",
            "   <a class=\"sister\" href=\"http://example.com/elsie\" id=\"link1\">\n",
            "    Elsie\n",
            "   </a>\n",
            "   ,\n",
            "   <a class=\"sister\" href=\"http://example.com/lacie\" id=\"link2\">\n",
            "    Lacie\n",
            "   </a>\n",
            "   and\n",
            "   <a class=\"sister\" href=\"http://example.com/tillie\" id=\"link3\">\n",
            "    Tillie\n",
            "   </a>\n",
            "   ;\n",
            "and they lived at the bottom of a well.\n",
            "  </p>\n",
            "  <p class=\"story\">\n",
            "   ...\n",
            "  </p>\n",
            " </body>\n",
            "</html>\n"
          ]
        }
      ]
    },
    {
      "cell_type": "markdown",
      "source": [
        "here's how to navigate through these data structure"
      ],
      "metadata": {
        "id": "eSndNUlbYf1V"
      }
    },
    {
      "cell_type": "code",
      "source": [
        "soup"
      ],
      "metadata": {
        "colab": {
          "base_uri": "https://localhost:8080/"
        },
        "id": "RDIfo698f_ov",
        "outputId": "8208f866-95fa-4e62-9715-bb03d71e08bf"
      },
      "execution_count": null,
      "outputs": [
        {
          "output_type": "execute_result",
          "data": {
            "text/plain": [
              "<html><head><title>The Dormouse's story</title></head>\n",
              "<body>\n",
              "<p class=\"title\"><b>The Dormouse's story</b></p>\n",
              "<p class=\"story\">Once upon a time there were three little sisters; and their names were\n",
              "<a class=\"sister\" href=\"http://example.com/elsie\" id=\"link1\">Elsie</a>,\n",
              "<a class=\"sister\" href=\"http://example.com/lacie\" id=\"link2\">Lacie</a> and\n",
              "<a class=\"sister\" href=\"http://example.com/tillie\" id=\"link3\">Tillie</a>;\n",
              "and they lived at the bottom of a well.</p>\n",
              "<p class=\"story\">...</p>\n",
              "</body></html>"
            ]
          },
          "metadata": {},
          "execution_count": 47
        }
      ]
    },
    {
      "cell_type": "code",
      "source": [
        "soup.title"
      ],
      "metadata": {
        "colab": {
          "base_uri": "https://localhost:8080/"
        },
        "id": "roWclzngf_lm",
        "outputId": "41c76699-5c7f-4554-daba-f9529570820b"
      },
      "execution_count": null,
      "outputs": [
        {
          "output_type": "execute_result",
          "data": {
            "text/plain": [
              "<title>The Dormouse's story</title>"
            ]
          },
          "metadata": {},
          "execution_count": 48
        }
      ]
    },
    {
      "cell_type": "code",
      "source": [
        "soup.p"
      ],
      "metadata": {
        "colab": {
          "base_uri": "https://localhost:8080/"
        },
        "id": "5-wRzJNTf_if",
        "outputId": "8282b4b5-0589-4d2e-beeb-e714925204e2"
      },
      "execution_count": null,
      "outputs": [
        {
          "output_type": "execute_result",
          "data": {
            "text/plain": [
              "<p class=\"title\"><b>The Dormouse's story</b></p>"
            ]
          },
          "metadata": {},
          "execution_count": 49
        }
      ]
    },
    {
      "cell_type": "code",
      "source": [
        "soup.a"
      ],
      "metadata": {
        "colab": {
          "base_uri": "https://localhost:8080/"
        },
        "id": "w1gXNH5Yf_fZ",
        "outputId": "f9d4cb86-ec2d-4b7d-ca90-087003513cf3"
      },
      "execution_count": null,
      "outputs": [
        {
          "output_type": "execute_result",
          "data": {
            "text/plain": [
              "<a class=\"sister\" href=\"http://example.com/elsie\" id=\"link1\">Elsie</a>"
            ]
          },
          "metadata": {},
          "execution_count": 50
        }
      ]
    },
    {
      "cell_type": "code",
      "source": [
        "soup.title.name"
      ],
      "metadata": {
        "colab": {
          "base_uri": "https://localhost:8080/",
          "height": 36
        },
        "id": "PRsaWQkJf_cP",
        "outputId": "d3d05bb8-4532-46bd-d2cd-7badfda1cfbb"
      },
      "execution_count": null,
      "outputs": [
        {
          "output_type": "execute_result",
          "data": {
            "text/plain": [
              "'title'"
            ],
            "application/vnd.google.colaboratory.intrinsic+json": {
              "type": "string"
            }
          },
          "metadata": {},
          "execution_count": 51
        }
      ]
    },
    {
      "cell_type": "code",
      "source": [
        "soup.title.string"
      ],
      "metadata": {
        "colab": {
          "base_uri": "https://localhost:8080/",
          "height": 36
        },
        "id": "J1IYqIcJf_ZV",
        "outputId": "3e8225f1-22fc-4c51-88c0-d8b81ddccf77"
      },
      "execution_count": null,
      "outputs": [
        {
          "output_type": "execute_result",
          "data": {
            "text/plain": [
              "\"The Dormouse's story\""
            ],
            "application/vnd.google.colaboratory.intrinsic+json": {
              "type": "string"
            }
          },
          "metadata": {},
          "execution_count": 54
        }
      ]
    },
    {
      "cell_type": "code",
      "source": [
        "soup.p.string"
      ],
      "metadata": {
        "colab": {
          "base_uri": "https://localhost:8080/",
          "height": 36
        },
        "id": "vsCu4cDwf_WS",
        "outputId": "25f2a034-829b-4644-a16d-693f8f6354cb"
      },
      "execution_count": null,
      "outputs": [
        {
          "output_type": "execute_result",
          "data": {
            "text/plain": [
              "\"The Dormouse's story\""
            ],
            "application/vnd.google.colaboratory.intrinsic+json": {
              "type": "string"
            }
          },
          "metadata": {},
          "execution_count": 55
        }
      ]
    },
    {
      "cell_type": "code",
      "source": [
        "soup.a.string"
      ],
      "metadata": {
        "colab": {
          "base_uri": "https://localhost:8080/",
          "height": 36
        },
        "id": "zRlsHTBcf_TV",
        "outputId": "cf667017-df95-46fe-848b-d178b7127d7f"
      },
      "execution_count": null,
      "outputs": [
        {
          "output_type": "execute_result",
          "data": {
            "text/plain": [
              "'Elsie'"
            ],
            "application/vnd.google.colaboratory.intrinsic+json": {
              "type": "string"
            }
          },
          "metadata": {},
          "execution_count": 56
        }
      ]
    },
    {
      "cell_type": "code",
      "source": [
        "soup.a['href']"
      ],
      "metadata": {
        "colab": {
          "base_uri": "https://localhost:8080/",
          "height": 36
        },
        "id": "I4nl23XLf_Qh",
        "outputId": "ad5c8894-1a85-4d6b-ccc8-147c796fadbd"
      },
      "execution_count": null,
      "outputs": [
        {
          "output_type": "execute_result",
          "data": {
            "text/plain": [
              "'http://example.com/elsie'"
            ],
            "application/vnd.google.colaboratory.intrinsic+json": {
              "type": "string"
            }
          },
          "metadata": {},
          "execution_count": 62
        }
      ]
    },
    {
      "cell_type": "code",
      "source": [
        "soup.p['class']"
      ],
      "metadata": {
        "colab": {
          "base_uri": "https://localhost:8080/"
        },
        "id": "SO_LR7tJf_Nm",
        "outputId": "ff10c1bf-deb2-43ff-d305-16a2e26088e1"
      },
      "execution_count": null,
      "outputs": [
        {
          "output_type": "execute_result",
          "data": {
            "text/plain": [
              "['title']"
            ]
          },
          "metadata": {},
          "execution_count": 63
        }
      ]
    },
    {
      "cell_type": "code",
      "source": [
        "soup.a['class']"
      ],
      "metadata": {
        "colab": {
          "base_uri": "https://localhost:8080/"
        },
        "id": "R_2CqNOPf_Kx",
        "outputId": "374f756e-b616-4b25-ea21-87683901ec1f"
      },
      "execution_count": null,
      "outputs": [
        {
          "output_type": "execute_result",
          "data": {
            "text/plain": [
              "['sister']"
            ]
          },
          "metadata": {},
          "execution_count": 64
        }
      ]
    },
    {
      "cell_type": "code",
      "source": [
        "soup.find_all('p')"
      ],
      "metadata": {
        "colab": {
          "base_uri": "https://localhost:8080/"
        },
        "id": "BAG2Zo7jf_Hp",
        "outputId": "03956e91-b2d3-42e9-f0a2-d10f81dea0af"
      },
      "execution_count": null,
      "outputs": [
        {
          "output_type": "execute_result",
          "data": {
            "text/plain": [
              "[<p class=\"title\"><b>The Dormouse's story</b></p>,\n",
              " <p class=\"story\">Once upon a time there were three little sisters; and their names were\n",
              " <a class=\"sister\" href=\"http://example.com/elsie\" id=\"link1\">Elsie</a>,\n",
              " <a class=\"sister\" href=\"http://example.com/lacie\" id=\"link2\">Lacie</a> and\n",
              " <a class=\"sister\" href=\"http://example.com/tillie\" id=\"link3\">Tillie</a>;\n",
              " and they lived at the bottom of a well.</p>,\n",
              " <p class=\"story\">...</p>]"
            ]
          },
          "metadata": {},
          "execution_count": 65
        }
      ]
    },
    {
      "cell_type": "code",
      "source": [
        "soup.find(id = 'link2')"
      ],
      "metadata": {
        "colab": {
          "base_uri": "https://localhost:8080/"
        },
        "id": "GH15NIUHf_Ez",
        "outputId": "062f1a65-8f23-40da-82d2-d4746063c68e"
      },
      "execution_count": null,
      "outputs": [
        {
          "output_type": "execute_result",
          "data": {
            "text/plain": [
              "<a class=\"sister\" href=\"http://example.com/lacie\" id=\"link2\">Lacie</a>"
            ]
          },
          "metadata": {},
          "execution_count": 68
        }
      ]
    },
    {
      "cell_type": "code",
      "source": [
        "soup.find_all('a')"
      ],
      "metadata": {
        "colab": {
          "base_uri": "https://localhost:8080/"
        },
        "id": "17lJYJaIf_Ba",
        "outputId": "51a8ff5c-5735-4eb4-9265-3d6531049821"
      },
      "execution_count": null,
      "outputs": [
        {
          "output_type": "execute_result",
          "data": {
            "text/plain": [
              "[<a class=\"sister\" href=\"http://example.com/elsie\" id=\"link1\">Elsie</a>,\n",
              " <a class=\"sister\" href=\"http://example.com/lacie\" id=\"link2\">Lacie</a>,\n",
              " <a class=\"sister\" href=\"http://example.com/tillie\" id=\"link3\">Tillie</a>]"
            ]
          },
          "metadata": {},
          "execution_count": 69
        }
      ]
    },
    {
      "cell_type": "markdown",
      "source": [
        "one simple task is to find the URL from a page's <a> tag"
      ],
      "metadata": {
        "id": "WEjk712Ih1YA"
      }
    },
    {
      "cell_type": "code",
      "source": [
        "for link in soup.find_all('a'):\n",
        "  print(link['href'])"
      ],
      "metadata": {
        "colab": {
          "base_uri": "https://localhost:8080/"
        },
        "id": "uQo5m3hcf--N",
        "outputId": "6c8cf816-51e1-4c75-a587-e6006d2ebcc1"
      },
      "execution_count": null,
      "outputs": [
        {
          "output_type": "stream",
          "name": "stdout",
          "text": [
            "http://example.com/elsie\n",
            "http://example.com/lacie\n",
            "http://example.com/tillie\n"
          ]
        }
      ]
    },
    {
      "cell_type": "code",
      "source": [
        "for link in soup.find_all('a'):\n",
        "  print(link.get('href'))"
      ],
      "metadata": {
        "colab": {
          "base_uri": "https://localhost:8080/"
        },
        "id": "uQSV0T24f-7W",
        "outputId": "633f4aec-ae12-4a83-cc1c-617c8da05759"
      },
      "execution_count": null,
      "outputs": [
        {
          "output_type": "stream",
          "name": "stdout",
          "text": [
            "http://example.com/elsie\n",
            "http://example.com/lacie\n",
            "http://example.com/tillie\n"
          ]
        }
      ]
    },
    {
      "cell_type": "code",
      "source": [
        "for link in soup.find_all('a'):\n",
        "  print(link.get('id'))"
      ],
      "metadata": {
        "colab": {
          "base_uri": "https://localhost:8080/"
        },
        "id": "89BfD1Bvf-4f",
        "outputId": "83c47717-5390-4b0d-8c17-fdffffe412f6"
      },
      "execution_count": null,
      "outputs": [
        {
          "output_type": "stream",
          "name": "stdout",
          "text": [
            "link1\n",
            "link2\n",
            "link3\n"
          ]
        }
      ]
    },
    {
      "cell_type": "code",
      "source": [
        "for link in soup.find_all('a'):\n",
        "  print(link.get_text())"
      ],
      "metadata": {
        "colab": {
          "base_uri": "https://localhost:8080/"
        },
        "id": "EfoP9yqqf-1n",
        "outputId": "f3f35ce1-c75b-4d04-9e3e-b2748875b336"
      },
      "execution_count": null,
      "outputs": [
        {
          "output_type": "stream",
          "name": "stdout",
          "text": [
            "Elsie\n",
            "Lacie\n",
            "Tillie\n"
          ]
        }
      ]
    },
    {
      "cell_type": "code",
      "source": [
        "for link in soup.find_all('a'):\n",
        "  print(link['class'])"
      ],
      "metadata": {
        "colab": {
          "base_uri": "https://localhost:8080/"
        },
        "id": "v-HQAG8xie-7",
        "outputId": "1f1675be-1831-440d-aa4b-e2e479f346d6"
      },
      "execution_count": null,
      "outputs": [
        {
          "output_type": "stream",
          "name": "stdout",
          "text": [
            "['sister']\n",
            "['sister']\n",
            "['sister']\n"
          ]
        }
      ]
    },
    {
      "cell_type": "code",
      "source": [
        "soup.find_all('p')"
      ],
      "metadata": {
        "colab": {
          "base_uri": "https://localhost:8080/"
        },
        "id": "r5T6hfh0f-yx",
        "outputId": "fc9feb03-6fc2-4065-a0aa-c61957dd3287"
      },
      "execution_count": null,
      "outputs": [
        {
          "output_type": "execute_result",
          "data": {
            "text/plain": [
              "[<p class=\"title\"><b>The Dormouse's story</b></p>,\n",
              " <p class=\"story\">Once upon a time there were three little sisters; and their names were\n",
              " <a class=\"sister\" href=\"http://example.com/elsie\" id=\"link1\">Elsie</a>,\n",
              " <a class=\"sister\" href=\"http://example.com/lacie\" id=\"link2\">Lacie</a> and\n",
              " <a class=\"sister\" href=\"http://example.com/tillie\" id=\"link3\">Tillie</a>;\n",
              " and they lived at the bottom of a well.</p>,\n",
              " <p class=\"story\">...</p>]"
            ]
          },
          "metadata": {},
          "execution_count": 74
        }
      ]
    },
    {
      "cell_type": "code",
      "source": [
        "for texts in soup.find_all('p'):\n",
        "  print(texts['class'])\n"
      ],
      "metadata": {
        "colab": {
          "base_uri": "https://localhost:8080/"
        },
        "id": "5hk9gVONf-wA",
        "outputId": "a349ebb9-ae4f-493e-d443-dc60f5184d1c"
      },
      "execution_count": null,
      "outputs": [
        {
          "output_type": "stream",
          "name": "stdout",
          "text": [
            "['title']\n",
            "['story']\n",
            "['story']\n"
          ]
        }
      ]
    },
    {
      "cell_type": "code",
      "source": [
        "for texts in soup.find_all('p'):\n",
        "  print(texts.get_text())"
      ],
      "metadata": {
        "colab": {
          "base_uri": "https://localhost:8080/"
        },
        "id": "myUAB4Vuf-s_",
        "outputId": "8e9bb500-7bd5-43ee-aeec-0acc1a5dbcbe"
      },
      "execution_count": null,
      "outputs": [
        {
          "output_type": "stream",
          "name": "stdout",
          "text": [
            "The Dormouse's story\n",
            "Once upon a time there were three little sisters; and their names were\n",
            "Elsie,\n",
            "Lacie and\n",
            "Tillie;\n",
            "and they lived at the bottom of a well.\n",
            "...\n"
          ]
        }
      ]
    },
    {
      "cell_type": "code",
      "source": [
        "for texts in soup.find_all('p'):\n",
        "  if texts['class'] == ['title']:\n",
        "    print(texts.get_text())"
      ],
      "metadata": {
        "colab": {
          "base_uri": "https://localhost:8080/"
        },
        "id": "vuwNPcMii8cM",
        "outputId": "8a4c8229-9a12-4969-d2d0-f0771256786a"
      },
      "execution_count": null,
      "outputs": [
        {
          "output_type": "stream",
          "name": "stdout",
          "text": [
            "The Dormouse's story\n"
          ]
        }
      ]
    },
    {
      "cell_type": "code",
      "source": [
        "for texts in soup.find_all('p'):\n",
        "  if texts['class'] == ['story']:\n",
        "    print(texts.get_text())"
      ],
      "metadata": {
        "colab": {
          "base_uri": "https://localhost:8080/"
        },
        "id": "vVgoCjqYf-p8",
        "outputId": "2f8a961d-0c38-4666-e01c-f5636174a0ba"
      },
      "execution_count": null,
      "outputs": [
        {
          "output_type": "stream",
          "name": "stdout",
          "text": [
            "Once upon a time there were three little sisters; and their names were\n",
            "Elsie,\n",
            "Lacie and\n",
            "Tillie;\n",
            "and they lived at the bottom of a well.\n",
            "...\n"
          ]
        }
      ]
    },
    {
      "cell_type": "markdown",
      "source": [
        "Another common task is to get all the texts from a html documents"
      ],
      "metadata": {
        "id": "Xmdoh2x3dlJc"
      }
    },
    {
      "cell_type": "code",
      "source": [
        "print(soup.get_text())"
      ],
      "metadata": {
        "colab": {
          "base_uri": "https://localhost:8080/"
        },
        "id": "0Thm5ofwdt4E",
        "outputId": "ec926637-ad5f-4cab-86bb-93978adceaea"
      },
      "execution_count": null,
      "outputs": [
        {
          "output_type": "stream",
          "name": "stdout",
          "text": [
            "The Dormouse's story\n",
            "\n",
            "The Dormouse's story\n",
            "Once upon a time there were three little sisters; and their names were\n",
            "Elsie,\n",
            "Lacie and\n",
            "Tillie;\n",
            "and they lived at the bottom of a well.\n",
            "...\n",
            "\n"
          ]
        }
      ]
    },
    {
      "cell_type": "markdown",
      "source": [
        "parse html from a file using file handle"
      ],
      "metadata": {
        "id": "zB3Y0c7ykyr-"
      }
    },
    {
      "cell_type": "code",
      "source": [
        "'''\n",
        "with open('filename.html') as filename:\n",
        "  soup =  BeautifulSoup(filename, 'html.parser')\n",
        "'''"
      ],
      "metadata": {
        "colab": {
          "base_uri": "https://localhost:8080/",
          "height": 36
        },
        "id": "CiLBrZPnjBfG",
        "outputId": "3f258e77-5a11-4c96-81e8-809cb70592f2"
      },
      "execution_count": null,
      "outputs": [
        {
          "output_type": "execute_result",
          "data": {
            "text/plain": [
              "\"\\nwith open('filename.html') as filename:\\n  soup =  BeautifulSoup(filename, 'html.parser')\\n\""
            ],
            "application/vnd.google.colaboratory.intrinsic+json": {
              "type": "string"
            }
          },
          "metadata": {},
          "execution_count": 85
        }
      ]
    },
    {
      "cell_type": "markdown",
      "source": [
        "# **Kinds of Objects**"
      ],
      "metadata": {
        "id": "eub37QqNlNRW"
      }
    },
    {
      "cell_type": "markdown",
      "source": [
        "Beautiful soup converts a complex HTML document into a complex tree of Python objects. we have to deal with four kind of objects.\n",
        "\n",
        "\n",
        "1. Tag\n",
        "2. NavigableString\n",
        "3. Beautiful Soup \n",
        "4. Comment"
      ],
      "metadata": {
        "id": "EluyueLHlrms"
      }
    },
    {
      "cell_type": "markdown",
      "source": [
        "## **Tag**"
      ],
      "metadata": {
        "id": "r-Fz1e-6mhQE"
      }
    },
    {
      "cell_type": "markdown",
      "source": [
        "A Tag object corresponds to an XML or HTML tag in the original document:"
      ],
      "metadata": {
        "id": "qsVlGh66nAtY"
      }
    },
    {
      "cell_type": "code",
      "source": [
        "soup = BeautifulSoup('<b class=\"boldest\">Extremely bold</b>', 'html.parser')\n",
        "tag = soup.b"
      ],
      "metadata": {
        "id": "6DsrHS0Wmk-P"
      },
      "execution_count": null,
      "outputs": []
    },
    {
      "cell_type": "code",
      "source": [
        "type(tag)"
      ],
      "metadata": {
        "colab": {
          "base_uri": "https://localhost:8080/"
        },
        "id": "SxudaCEhnET_",
        "outputId": "2d9339cb-5439-4e4b-ca47-b3bbfec0face"
      },
      "execution_count": null,
      "outputs": [
        {
          "output_type": "execute_result",
          "data": {
            "text/plain": [
              "bs4.element.Tag"
            ]
          },
          "metadata": {},
          "execution_count": 95
        }
      ]
    },
    {
      "cell_type": "markdown",
      "source": [
        "Tag have several attributes and methods. most important features of a tag is its name and attribute"
      ],
      "metadata": {
        "id": "G_cZbs-vnIPU"
      }
    },
    {
      "cell_type": "markdown",
      "source": [
        "### **Name**"
      ],
      "metadata": {
        "id": "Ltb1IrKhnTF4"
      }
    },
    {
      "cell_type": "code",
      "source": [
        "soup"
      ],
      "metadata": {
        "colab": {
          "base_uri": "https://localhost:8080/"
        },
        "id": "jeNrPMlNnf1i",
        "outputId": "30de6b7d-87e9-47b9-c0b6-69741053fba8"
      },
      "execution_count": null,
      "outputs": [
        {
          "output_type": "execute_result",
          "data": {
            "text/plain": [
              "<b class=\"boldest\">Extremely bold</b>"
            ]
          },
          "metadata": {},
          "execution_count": 96
        }
      ]
    },
    {
      "cell_type": "code",
      "source": [
        "# name of the tag\n",
        "tag.name"
      ],
      "metadata": {
        "colab": {
          "base_uri": "https://localhost:8080/",
          "height": 36
        },
        "id": "yW-iCssunFjH",
        "outputId": "8e2bb653-e26c-44a4-ae3b-2922e49cd934"
      },
      "execution_count": null,
      "outputs": [
        {
          "output_type": "execute_result",
          "data": {
            "text/plain": [
              "'b'"
            ],
            "application/vnd.google.colaboratory.intrinsic+json": {
              "type": "string"
            }
          },
          "metadata": {},
          "execution_count": 97
        }
      ]
    },
    {
      "cell_type": "code",
      "source": [
        "# we can change the name. it will reflect on the HTML document\n",
        "# before name change\n",
        "print(soup)"
      ],
      "metadata": {
        "colab": {
          "base_uri": "https://localhost:8080/"
        },
        "id": "8oqG2-F6nkHP",
        "outputId": "d24fb5e1-7399-421f-ae0a-9bfe46bc56b0"
      },
      "execution_count": null,
      "outputs": [
        {
          "output_type": "stream",
          "name": "stdout",
          "text": [
            "<b class=\"boldest\">Extremely bold</b>\n"
          ]
        }
      ]
    },
    {
      "cell_type": "code",
      "source": [
        "# after name change\n",
        "tag.name = 'blockquote'\n",
        "print(soup)"
      ],
      "metadata": {
        "colab": {
          "base_uri": "https://localhost:8080/"
        },
        "id": "lrIYI-Gvntu_",
        "outputId": "491a3008-6d69-47df-bb5a-92d82bb00ad7"
      },
      "execution_count": null,
      "outputs": [
        {
          "output_type": "stream",
          "name": "stdout",
          "text": [
            "<blockquote class=\"boldest\">Extremely bold</blockquote>\n"
          ]
        }
      ]
    },
    {
      "cell_type": "markdown",
      "source": [
        "### **Attributes**"
      ],
      "metadata": {
        "id": "ZnUC2esNoNpR"
      }
    },
    {
      "cell_type": "markdown",
      "source": [
        "A tag may have any number of attributes. The tag <b id=\"boldest\"> has an attribute “id” whose value is “boldest”. You can access a tag’s attributes by treating the tag like a dictionary:"
      ],
      "metadata": {
        "id": "Nkd2CRKTof0g"
      }
    },
    {
      "cell_type": "code",
      "source": [
        "soup = BeautifulSoup('<b id=\"boldest\">bold</b>', 'html.parser')\n",
        "tag = soup.b\n",
        "print(tag['id'])\n",
        "# 'boldest'"
      ],
      "metadata": {
        "colab": {
          "base_uri": "https://localhost:8080/"
        },
        "id": "AXh-0AEDoGOn",
        "outputId": "239190b7-799c-4748-dd2f-9494392f433c"
      },
      "execution_count": null,
      "outputs": [
        {
          "output_type": "stream",
          "name": "stdout",
          "text": [
            "boldest\n"
          ]
        }
      ]
    },
    {
      "cell_type": "code",
      "source": [
        "# You can access that dictionary directly as .attrs:\n",
        "tag.attrs"
      ],
      "metadata": {
        "colab": {
          "base_uri": "https://localhost:8080/"
        },
        "id": "0XKxIeQsovS_",
        "outputId": "0e8a1302-b1a4-478e-d65f-46eae9857cd9"
      },
      "execution_count": null,
      "outputs": [
        {
          "output_type": "execute_result",
          "data": {
            "text/plain": [
              "{'id': 'boldest'}"
            ]
          },
          "metadata": {},
          "execution_count": 104
        }
      ]
    },
    {
      "cell_type": "code",
      "source": [
        "# You can add, remove, and modify a tag’s attributes. Again, this is done by treating the tag as a dictionary:\n",
        "tag['id']\n",
        "tag['id'] = 'very boldest'\n",
        "tag['another tag'] = 1\n",
        "tag.attrs"
      ],
      "metadata": {
        "colab": {
          "base_uri": "https://localhost:8080/"
        },
        "id": "Dc1oMDTMqWtY",
        "outputId": "87a5a894-9e6c-4165-aaf2-641bf4c83134"
      },
      "execution_count": null,
      "outputs": [
        {
          "output_type": "execute_result",
          "data": {
            "text/plain": [
              "{'id': 'very boldest', 'another tag': 1}"
            ]
          },
          "metadata": {},
          "execution_count": 108
        }
      ]
    },
    {
      "cell_type": "code",
      "source": [
        "print(tag)"
      ],
      "metadata": {
        "colab": {
          "base_uri": "https://localhost:8080/"
        },
        "id": "Jjj_TVACrIa4",
        "outputId": "b89cff28-2e7e-48a4-8799-cae60935b8b2"
      },
      "execution_count": null,
      "outputs": [
        {
          "output_type": "stream",
          "name": "stdout",
          "text": [
            "<b another tag=\"1\" id=\"very boldest\">bold</b>\n"
          ]
        }
      ]
    },
    {
      "cell_type": "code",
      "source": [
        "del tag['another tag']"
      ],
      "metadata": {
        "id": "WOovfW4CrSeJ"
      },
      "execution_count": null,
      "outputs": []
    },
    {
      "cell_type": "code",
      "source": [
        "print(tag)"
      ],
      "metadata": {
        "colab": {
          "base_uri": "https://localhost:8080/"
        },
        "id": "KMuPlfU9rWro",
        "outputId": "3f21d124-d05d-49b2-e0f4-8b6bfd7f855f"
      },
      "execution_count": null,
      "outputs": [
        {
          "output_type": "stream",
          "name": "stdout",
          "text": [
            "<b id=\"very boldest\">bold</b>\n"
          ]
        }
      ]
    },
    {
      "cell_type": "code",
      "source": [
        "del tag['id']"
      ],
      "metadata": {
        "id": "Qn_0pOH8rXt4"
      },
      "execution_count": null,
      "outputs": []
    },
    {
      "cell_type": "code",
      "source": [
        "print(tag)"
      ],
      "metadata": {
        "colab": {
          "base_uri": "https://localhost:8080/"
        },
        "id": "HaxwORQPrZsw",
        "outputId": "9bddf687-e4b6-4c48-f0b3-e5bae5d81fe5"
      },
      "execution_count": null,
      "outputs": [
        {
          "output_type": "stream",
          "name": "stdout",
          "text": [
            "<b>bold</b>\n"
          ]
        }
      ]
    },
    {
      "cell_type": "code",
      "source": [
        "tag['id'] = 'boldest'\n",
        "print(tag)"
      ],
      "metadata": {
        "colab": {
          "base_uri": "https://localhost:8080/"
        },
        "id": "3FcWxYjGrbPg",
        "outputId": "1d2dc7bb-c753-4cf0-d880-b6bb88cbd530"
      },
      "execution_count": null,
      "outputs": [
        {
          "output_type": "stream",
          "name": "stdout",
          "text": [
            "<b id=\"boldest\">bold</b>\n"
          ]
        }
      ]
    },
    {
      "cell_type": "markdown",
      "source": [
        "####**Multi-value attributes**"
      ],
      "metadata": {
        "id": "IEMYTXulri4n"
      }
    },
    {
      "cell_type": "markdown",
      "source": [
        "The most common multi-valued attribute is class (that is, a tag can have more than one CSS class). Others include rel, rev, accept-charset, headers, and accesskey. Beautiful Soup presents the value(s) of a multi-valued attribute as a list:"
      ],
      "metadata": {
        "id": "QQwAJe5nshHp"
      }
    },
    {
      "cell_type": "code",
      "source": [
        "css_soup = BeautifulSoup('<p class=\"body\"></p>', 'html.parser')\n",
        "css_soup.p['class']\n",
        "# ['body']"
      ],
      "metadata": {
        "colab": {
          "base_uri": "https://localhost:8080/"
        },
        "id": "hIZdd7l2rfVg",
        "outputId": "3cb8dbf6-7457-4afb-eff5-476001efcfa0"
      },
      "execution_count": null,
      "outputs": [
        {
          "output_type": "execute_result",
          "data": {
            "text/plain": [
              "['body']"
            ]
          },
          "metadata": {},
          "execution_count": 116
        }
      ]
    },
    {
      "cell_type": "code",
      "source": [
        "css_soup = BeautifulSoup('<p class=\"body strikeout\"></p>', 'html.parser')\n",
        "css_soup.p['class']\n",
        "# ['body', 'strikeout']\n",
        "# class defined as a multi-value attribute"
      ],
      "metadata": {
        "colab": {
          "base_uri": "https://localhost:8080/"
        },
        "id": "BH3cYNjJssrf",
        "outputId": "192a72e9-7865-4fda-d067-a396ddeb9841"
      },
      "execution_count": null,
      "outputs": [
        {
          "output_type": "execute_result",
          "data": {
            "text/plain": [
              "['body', 'strikeout']"
            ]
          },
          "metadata": {},
          "execution_count": 117
        }
      ]
    },
    {
      "cell_type": "markdown",
      "source": [
        "If an attribute looks like it has more than one value, but it’s not a multi-valued attribute as defined by any version of the HTML standard, Beautiful Soup will leave the attribute alone:"
      ],
      "metadata": {
        "id": "mD3tBoFBs6zA"
      }
    },
    {
      "cell_type": "code",
      "source": [
        "id_soup = BeautifulSoup('<p id=\"my id\"></p>', 'html.parser')\n",
        "id_soup.p['id']\n",
        "# 'my id'\n",
        "# as id is not defined as a multi-value attributes. thats why it is showing as a single value attribute"
      ],
      "metadata": {
        "colab": {
          "base_uri": "https://localhost:8080/",
          "height": 36
        },
        "id": "SMeBPiN4suCg",
        "outputId": "79e18e16-f25f-4512-8be7-dcf829f0f2b8"
      },
      "execution_count": null,
      "outputs": [
        {
          "output_type": "execute_result",
          "data": {
            "text/plain": [
              "'my id'"
            ],
            "application/vnd.google.colaboratory.intrinsic+json": {
              "type": "string"
            }
          },
          "metadata": {},
          "execution_count": 119
        }
      ]
    },
    {
      "cell_type": "markdown",
      "source": [
        "When you turn a tag back into a string, multiple attribute values are consolidated:"
      ],
      "metadata": {
        "id": "4Qb9Hiq-tdFd"
      }
    },
    {
      "cell_type": "code",
      "source": [
        "rel_soup = BeautifulSoup('<p>Back to the <a rel=\"index\">homepage</a></p>', 'html.parser')\n",
        "rel_soup.a['rel']\n",
        "# ['index']"
      ],
      "metadata": {
        "colab": {
          "base_uri": "https://localhost:8080/"
        },
        "id": "KkSD1m4vtJ-o",
        "outputId": "9deacd9e-16fc-4912-e27d-145e1aab0d67"
      },
      "execution_count": null,
      "outputs": [
        {
          "output_type": "execute_result",
          "data": {
            "text/plain": [
              "['index']"
            ]
          },
          "metadata": {},
          "execution_count": 120
        }
      ]
    },
    {
      "cell_type": "code",
      "source": [
        "rel_soup.p"
      ],
      "metadata": {
        "colab": {
          "base_uri": "https://localhost:8080/"
        },
        "id": "xF8_pVAstijz",
        "outputId": "159414e2-38dc-4085-85bc-4f639c882385"
      },
      "execution_count": null,
      "outputs": [
        {
          "output_type": "execute_result",
          "data": {
            "text/plain": [
              "<p>Back to the <a rel=\"index\">homepage</a></p>"
            ]
          },
          "metadata": {},
          "execution_count": 127
        }
      ]
    },
    {
      "cell_type": "code",
      "source": [
        "rel_soup.a['rel'] = ['index', 'contents']\n",
        "print(rel_soup.p)"
      ],
      "metadata": {
        "colab": {
          "base_uri": "https://localhost:8080/"
        },
        "id": "U0E6I8vLt-iM",
        "outputId": "71f9b81a-7616-4bcb-f319-e4a5635f9ceb"
      },
      "execution_count": null,
      "outputs": [
        {
          "output_type": "stream",
          "name": "stdout",
          "text": [
            "<p>Back to the <a rel=\"index contents\">homepage</a></p>\n"
          ]
        }
      ]
    },
    {
      "cell_type": "code",
      "source": [
        "rel_soup.a['rel']\n",
        "# rel is a multi valued attributes"
      ],
      "metadata": {
        "colab": {
          "base_uri": "https://localhost:8080/"
        },
        "id": "7aMzqJCat-et",
        "outputId": "98b11adc-b8bd-46e6-ca22-b5ac03bd36fe"
      },
      "execution_count": null,
      "outputs": [
        {
          "output_type": "execute_result",
          "data": {
            "text/plain": [
              "['index', 'contents']"
            ]
          },
          "metadata": {},
          "execution_count": 129
        }
      ]
    },
    {
      "cell_type": "markdown",
      "source": [
        "You can disable this by passing multi_valued_attributes=None as a keyword argument into the BeautifulSoup constructor:"
      ],
      "metadata": {
        "id": "JcMblUgDuO-c"
      }
    },
    {
      "cell_type": "code",
      "source": [
        "'''\n",
        "no_list_soup = BeautifulSoup('<p class=\"body strikeout\"></p>', 'html.parser', multi_valued_attributes=None)\n",
        "no_list_soup.p['class']\n",
        "# 'body strikeout'\n",
        "'''"
      ],
      "metadata": {
        "colab": {
          "base_uri": "https://localhost:8080/",
          "height": 54
        },
        "id": "UcTw3DxBt-bl",
        "outputId": "a24022d5-6f56-47bb-a13a-9f53db92728d"
      },
      "execution_count": null,
      "outputs": [
        {
          "output_type": "execute_result",
          "data": {
            "text/plain": [
              "'\\nno_list_soup = BeautifulSoup(\\'<p class=\"body strikeout\"></p>\\', \\'html.parser\\', multi_valued_attributes=None)\\nno_list_soup.p[\\'class\\']\\n# \\'body strikeout\\'\\n'"
            ],
            "application/vnd.google.colaboratory.intrinsic+json": {
              "type": "string"
            }
          },
          "metadata": {},
          "execution_count": 134
        }
      ]
    },
    {
      "cell_type": "markdown",
      "source": [
        "You can use get_attribute_list to get a value that’s always a list, whether or not it’s a multi-valued atribute:"
      ],
      "metadata": {
        "id": "v2Zcx0OqwN-r"
      }
    },
    {
      "cell_type": "code",
      "source": [
        "id_soup"
      ],
      "metadata": {
        "colab": {
          "base_uri": "https://localhost:8080/"
        },
        "id": "_k3Jkc8mwPsl",
        "outputId": "c5e045c6-a049-4cb5-b1b1-a44411f824c3"
      },
      "execution_count": null,
      "outputs": [
        {
          "output_type": "execute_result",
          "data": {
            "text/plain": [
              "<p id=\"my id\"></p>"
            ]
          },
          "metadata": {},
          "execution_count": 136
        }
      ]
    },
    {
      "cell_type": "code",
      "source": [
        "id_soup.p['class'] = 'stories'"
      ],
      "metadata": {
        "id": "a2mhTNJQweGj"
      },
      "execution_count": null,
      "outputs": []
    },
    {
      "cell_type": "code",
      "source": [
        "id_soup"
      ],
      "metadata": {
        "colab": {
          "base_uri": "https://localhost:8080/"
        },
        "id": "Zq8Q7gsbwkXn",
        "outputId": "096e41ca-0559-49f4-d82e-5c70cff68975"
      },
      "execution_count": null,
      "outputs": [
        {
          "output_type": "execute_result",
          "data": {
            "text/plain": [
              "<p class=\"stories\" id=\"my id\"></p>"
            ]
          },
          "metadata": {},
          "execution_count": 143
        }
      ]
    },
    {
      "cell_type": "code",
      "source": [
        "id_soup.p.get_attribute_list"
      ],
      "metadata": {
        "colab": {
          "base_uri": "https://localhost:8080/"
        },
        "id": "R7HRo3_pwXEg",
        "outputId": "7b24710c-b244-4540-d8a0-289d10ac4c3a"
      },
      "execution_count": null,
      "outputs": [
        {
          "output_type": "execute_result",
          "data": {
            "text/plain": [
              "<bound method Tag.get_attribute_list of <p class=\"stories\" id=\"my id\"></p>>"
            ]
          },
          "metadata": {},
          "execution_count": 144
        }
      ]
    },
    {
      "cell_type": "markdown",
      "source": [
        "If you parse a document as XML, there are no multi-valued attributes:"
      ],
      "metadata": {
        "id": "jDiKdheStiAT"
      }
    },
    {
      "cell_type": "code",
      "source": [
        "xml_soup = BeautifulSoup('<p class=\"body strikeout\"></p>', 'xml')\n",
        "xml_soup.p['class']\n",
        "# 'body strikeout'"
      ],
      "metadata": {
        "colab": {
          "base_uri": "https://localhost:8080/",
          "height": 36
        },
        "id": "_7DX7LpQwwBd",
        "outputId": "c13b0734-9112-4de9-c92a-0b44383e3a24"
      },
      "execution_count": null,
      "outputs": [
        {
          "output_type": "execute_result",
          "data": {
            "text/plain": [
              "'body strikeout'"
            ],
            "application/vnd.google.colaboratory.intrinsic+json": {
              "type": "string"
            }
          },
          "metadata": {},
          "execution_count": 145
        }
      ]
    },
    {
      "cell_type": "markdown",
      "source": [
        "## **Navigable String**"
      ],
      "metadata": {
        "id": "U-8Xh7Ltw_Zr"
      }
    },
    {
      "cell_type": "markdown",
      "source": [
        "A string corresponds to a bit of text within a tag. Beautiful Soup uses the NavigableString class to contain these bits of text:"
      ],
      "metadata": {
        "id": "GsVHBxkd0qb2"
      }
    },
    {
      "cell_type": "code",
      "source": [
        "soup = BeautifulSoup('<b class=\"boldest\">Extremely bold</b>', 'html.parser')\n",
        "tag = soup.b\n",
        "print(tag.string)\n",
        "# 'Extremely bold'\n",
        "type(tag.string)\n",
        "# <class 'bs4.element.NavigableString'>"
      ],
      "metadata": {
        "colab": {
          "base_uri": "https://localhost:8080/"
        },
        "id": "X4G2ckvjxDQ7",
        "outputId": "8faa1af7-33a4-4b47-ad53-155084387333"
      },
      "execution_count": null,
      "outputs": [
        {
          "output_type": "stream",
          "name": "stdout",
          "text": [
            "Extremely bold\n"
          ]
        },
        {
          "output_type": "execute_result",
          "data": {
            "text/plain": [
              "bs4.element.NavigableString"
            ]
          },
          "metadata": {},
          "execution_count": 147
        }
      ]
    },
    {
      "cell_type": "code",
      "source": [
        "# convert to string\n",
        "unicode_string = str(tag.string)\n",
        "print(unicode_string)\n",
        "# 'Extremely bold'\n",
        "type(unicode_string)\n",
        "# <type 'str'>"
      ],
      "metadata": {
        "colab": {
          "base_uri": "https://localhost:8080/"
        },
        "id": "xu7Cj5uJ0xXa",
        "outputId": "deab1d8d-485a-4b40-d7d7-088ade733aa2"
      },
      "execution_count": null,
      "outputs": [
        {
          "output_type": "stream",
          "name": "stdout",
          "text": [
            "Extremely bold\n"
          ]
        },
        {
          "output_type": "execute_result",
          "data": {
            "text/plain": [
              "str"
            ]
          },
          "metadata": {},
          "execution_count": 148
        }
      ]
    },
    {
      "cell_type": "code",
      "source": [
        "# You can’t edit a string in place, but you can replace one string with another, using replace_with():\n",
        "tag.string.replace_with('Not bold anymore')\n",
        "tag"
      ],
      "metadata": {
        "colab": {
          "base_uri": "https://localhost:8080/"
        },
        "id": "HSYDD01u07bf",
        "outputId": "fb5ac928-4926-4827-c41a-058cb4de532e"
      },
      "execution_count": null,
      "outputs": [
        {
          "output_type": "execute_result",
          "data": {
            "text/plain": [
              "<b class=\"boldest\">Not bold anymore</b>"
            ]
          },
          "metadata": {},
          "execution_count": 152
        }
      ]
    },
    {
      "cell_type": "markdown",
      "source": [
        "## **Beautiful Soup**"
      ],
      "metadata": {
        "id": "6Q_CJEEd1IAX"
      }
    },
    {
      "cell_type": "code",
      "source": [
        "doc = BeautifulSoup(\"<document><content/>INSERT FOOTER HERE</document\", \"xml\")\n",
        "footer = BeautifulSoup(\"<footer>Here's the footer</footer>\", \"xml\")\n",
        "doc.find(text=\"INSERT FOOTER HERE\").replace_with(footer)\n",
        "# 'INSERT FOOTER HERE'\n",
        "print(doc)\n",
        "# <?xml version=\"1.0\" encoding=\"utf-8\"?>\n",
        "# <document><content/><footer>Here's the footer</footer></document>"
      ],
      "metadata": {
        "colab": {
          "base_uri": "https://localhost:8080/"
        },
        "id": "RQwm3Glq0-1C",
        "outputId": "a30fcba7-7bf6-48d3-fcc6-4f35db504fe7"
      },
      "execution_count": null,
      "outputs": [
        {
          "output_type": "stream",
          "name": "stdout",
          "text": [
            "<?xml version=\"1.0\" encoding=\"utf-8\"?>\n",
            "<document><content/><footer>Here's the footer</footer></document>\n"
          ]
        }
      ]
    },
    {
      "cell_type": "code",
      "source": [
        "doc.name"
      ],
      "metadata": {
        "colab": {
          "base_uri": "https://localhost:8080/",
          "height": 36
        },
        "id": "-PH9qrAA6Mk6",
        "outputId": "7d924362-b2b8-4d87-8fd5-8df6cef1169f"
      },
      "execution_count": null,
      "outputs": [
        {
          "output_type": "execute_result",
          "data": {
            "text/plain": [
              "'[document]'"
            ],
            "application/vnd.google.colaboratory.intrinsic+json": {
              "type": "string"
            }
          },
          "metadata": {},
          "execution_count": 154
        }
      ]
    },
    {
      "cell_type": "code",
      "source": [
        "footer.name"
      ],
      "metadata": {
        "colab": {
          "base_uri": "https://localhost:8080/",
          "height": 36
        },
        "id": "fdk0eW8_6Nlr",
        "outputId": "afe11e29-c252-4d6a-b754-ad027ea52a95"
      },
      "execution_count": null,
      "outputs": [
        {
          "output_type": "execute_result",
          "data": {
            "text/plain": [
              "'[document]'"
            ],
            "application/vnd.google.colaboratory.intrinsic+json": {
              "type": "string"
            }
          },
          "metadata": {},
          "execution_count": 155
        }
      ]
    },
    {
      "cell_type": "markdown",
      "source": [
        "## **Comment**"
      ],
      "metadata": {
        "id": "tOQapEHa6Sf1"
      }
    },
    {
      "cell_type": "code",
      "source": [
        "markup = \"<b><!--Hey, buddy. Want to buy a used parser?--></b>\"\n",
        "soup = BeautifulSoup(markup, 'html.parser')\n",
        "comment = soup.b.string\n",
        "type(comment)\n",
        "# <class 'bs4.element.Comment'>"
      ],
      "metadata": {
        "colab": {
          "base_uri": "https://localhost:8080/"
        },
        "id": "HJVpPkW06PIL",
        "outputId": "bbaf84c7-ca46-43a7-db7d-e335039c50e0"
      },
      "execution_count": null,
      "outputs": [
        {
          "output_type": "execute_result",
          "data": {
            "text/plain": [
              "bs4.element.Comment"
            ]
          },
          "metadata": {},
          "execution_count": 156
        }
      ]
    },
    {
      "cell_type": "code",
      "source": [
        "comment"
      ],
      "metadata": {
        "colab": {
          "base_uri": "https://localhost:8080/",
          "height": 36
        },
        "id": "1InG5DZg7p9N",
        "outputId": "9c9ceb5e-d8f5-46af-9776-b1cdf1a85ca0"
      },
      "execution_count": null,
      "outputs": [
        {
          "output_type": "execute_result",
          "data": {
            "text/plain": [
              "'Hey, buddy. Want to buy a used parser?'"
            ],
            "application/vnd.google.colaboratory.intrinsic+json": {
              "type": "string"
            }
          },
          "metadata": {},
          "execution_count": 157
        }
      ]
    },
    {
      "cell_type": "code",
      "source": [
        "print(soup.b)"
      ],
      "metadata": {
        "colab": {
          "base_uri": "https://localhost:8080/"
        },
        "id": "L3RYJaM07q7T",
        "outputId": "0bf7df95-4bb1-419c-de8f-3ff083148044"
      },
      "execution_count": null,
      "outputs": [
        {
          "output_type": "stream",
          "name": "stdout",
          "text": [
            "<b><!--Hey, buddy. Want to buy a used parser?--></b>\n"
          ]
        }
      ]
    },
    {
      "cell_type": "code",
      "source": [
        "print(soup.b.prettify())"
      ],
      "metadata": {
        "colab": {
          "base_uri": "https://localhost:8080/"
        },
        "id": "I7busbFE7vGD",
        "outputId": "66b7f46f-458a-4de2-bc66-a244fd7e7e86"
      },
      "execution_count": null,
      "outputs": [
        {
          "output_type": "stream",
          "name": "stdout",
          "text": [
            "<b>\n",
            " <!--Hey, buddy. Want to buy a used parser?-->\n",
            "</b>\n"
          ]
        }
      ]
    },
    {
      "cell_type": "markdown",
      "source": [
        "# **Navigating the Tree**"
      ],
      "metadata": {
        "id": "umGYQDaX8D4s"
      }
    },
    {
      "cell_type": "code",
      "source": [
        "html_doc = \"\"\"\n",
        "<html><head><title>The Dormouse's story</title></head>\n",
        "<body>\n",
        "<p class=\"title\"><b>The Dormouse's story</b></p>\n",
        "\n",
        "<p class=\"story\">Once upon a time there were three little sisters; and their names were\n",
        "<a href=\"http://example.com/elsie\" class=\"sister\" id=\"link1\">Elsie</a>,\n",
        "<a href=\"http://example.com/lacie\" class=\"sister\" id=\"link2\">Lacie</a> and\n",
        "<a href=\"http://example.com/tillie\" class=\"sister\" id=\"link3\">Tillie</a>;\n",
        "and they lived at the bottom of a well.</p>\n",
        "\n",
        "<p class=\"story\">...</p>\n",
        "\"\"\""
      ],
      "metadata": {
        "id": "VWNXO3mi7x2L"
      },
      "execution_count": null,
      "outputs": []
    },
    {
      "cell_type": "code",
      "source": [
        "soup = BeautifulSoup(html_doc, 'html.parser')"
      ],
      "metadata": {
        "id": "WXQDp2Xe8dSe"
      },
      "execution_count": null,
      "outputs": []
    },
    {
      "cell_type": "code",
      "source": [
        "print(soup.prettify())"
      ],
      "metadata": {
        "colab": {
          "base_uri": "https://localhost:8080/"
        },
        "id": "YeK1Zt8p8hsc",
        "outputId": "36ced934-b403-44c1-f4db-f5793e79f43c"
      },
      "execution_count": null,
      "outputs": [
        {
          "output_type": "stream",
          "name": "stdout",
          "text": [
            "<html>\n",
            " <head>\n",
            "  <title>\n",
            "   The Dormouse's story\n",
            "  </title>\n",
            " </head>\n",
            " <body>\n",
            "  <p class=\"title\">\n",
            "   <b>\n",
            "    The Dormouse's story\n",
            "   </b>\n",
            "  </p>\n",
            "  <p class=\"story\">\n",
            "   Once upon a time there were three little sisters; and their names were\n",
            "   <a class=\"sister\" href=\"http://example.com/elsie\" id=\"link1\">\n",
            "    Elsie\n",
            "   </a>\n",
            "   ,\n",
            "   <a class=\"sister\" href=\"http://example.com/lacie\" id=\"link2\">\n",
            "    Lacie\n",
            "   </a>\n",
            "   and\n",
            "   <a class=\"sister\" href=\"http://example.com/tillie\" id=\"link3\">\n",
            "    Tillie\n",
            "   </a>\n",
            "   ;\n",
            "and they lived at the bottom of a well.\n",
            "  </p>\n",
            "  <p class=\"story\">\n",
            "   ...\n",
            "  </p>\n",
            " </body>\n",
            "</html>\n"
          ]
        }
      ]
    },
    {
      "cell_type": "code",
      "source": [
        "soup"
      ],
      "metadata": {
        "colab": {
          "base_uri": "https://localhost:8080/"
        },
        "id": "NafDsAyOFTJw",
        "outputId": "771bd22a-fbe2-48b6-d7e9-20822b8d9686"
      },
      "execution_count": null,
      "outputs": [
        {
          "output_type": "execute_result",
          "data": {
            "text/plain": [
              "\n",
              "<html><head><title>The Dormouse's story</title></head>\n",
              "<body>\n",
              "<p class=\"title\"><b>The Dormouse's story</b></p>\n",
              "<p class=\"story\">Once upon a time there were three little sisters; and their names were\n",
              "<a class=\"sister\" href=\"http://example.com/elsie\" id=\"link1\">Elsie</a>,\n",
              "<a class=\"sister\" href=\"http://example.com/lacie\" id=\"link2\">Lacie</a> and\n",
              "<a class=\"sister\" href=\"http://example.com/tillie\" id=\"link3\">Tillie</a>;\n",
              "and they lived at the bottom of a well.</p>\n",
              "<p class=\"story\">...</p>\n",
              "</body></html>"
            ]
          },
          "metadata": {},
          "execution_count": 164
        }
      ]
    },
    {
      "cell_type": "markdown",
      "source": [
        "Navigating using tag names"
      ],
      "metadata": {
        "id": "xoAnGkyNH9n-"
      }
    },
    {
      "cell_type": "code",
      "source": [
        "print(soup.head)\n",
        "print(soup.title)\n",
        "print(soup.body.b)\n",
        "print(soup.p)\n",
        "print(soup.body.p)\n",
        "print(soup.a)"
      ],
      "metadata": {
        "colab": {
          "base_uri": "https://localhost:8080/"
        },
        "id": "euDovsjqFWaV",
        "outputId": "a9280dc3-3829-4071-c5fb-13a1478b7555"
      },
      "execution_count": null,
      "outputs": [
        {
          "output_type": "stream",
          "name": "stdout",
          "text": [
            "<head><title>The Dormouse's story</title></head>\n",
            "<title>The Dormouse's story</title>\n",
            "<b>The Dormouse's story</b>\n",
            "<p class=\"title\"><b>The Dormouse's story</b></p>\n",
            "<p class=\"title\"><b>The Dormouse's story</b></p>\n",
            "<a class=\"sister\" href=\"http://example.com/elsie\" id=\"link1\">Elsie</a>\n"
          ]
        }
      ]
    },
    {
      "cell_type": "code",
      "source": [
        "soup.find_all('a')"
      ],
      "metadata": {
        "colab": {
          "base_uri": "https://localhost:8080/"
        },
        "id": "btOAiLFOIAKu",
        "outputId": "fba5b1c1-d05a-476a-f731-ab4e6386b119"
      },
      "execution_count": null,
      "outputs": [
        {
          "output_type": "execute_result",
          "data": {
            "text/plain": [
              "[<a class=\"sister\" href=\"http://example.com/elsie\" id=\"link1\">Elsie</a>,\n",
              " <a class=\"sister\" href=\"http://example.com/lacie\" id=\"link2\">Lacie</a>,\n",
              " <a class=\"sister\" href=\"http://example.com/tillie\" id=\"link3\">Tillie</a>]"
            ]
          },
          "metadata": {},
          "execution_count": 174
        }
      ]
    },
    {
      "cell_type": "code",
      "source": [
        "soup.find_all('p')"
      ],
      "metadata": {
        "colab": {
          "base_uri": "https://localhost:8080/"
        },
        "id": "mRgpWUe3Iqtm",
        "outputId": "f92bbc85-bfc4-4b7a-8899-4b7ce71b2173"
      },
      "execution_count": null,
      "outputs": [
        {
          "output_type": "execute_result",
          "data": {
            "text/plain": [
              "[<p class=\"title\"><b>The Dormouse's story</b></p>,\n",
              " <p class=\"story\">Once upon a time there were three little sisters; and their names were\n",
              " <a class=\"sister\" href=\"http://example.com/elsie\" id=\"link1\">Elsie</a>,\n",
              " <a class=\"sister\" href=\"http://example.com/lacie\" id=\"link2\">Lacie</a> and\n",
              " <a class=\"sister\" href=\"http://example.com/tillie\" id=\"link3\">Tillie</a>;\n",
              " and they lived at the bottom of a well.</p>,\n",
              " <p class=\"story\">...</p>]"
            ]
          },
          "metadata": {},
          "execution_count": 175
        }
      ]
    },
    {
      "cell_type": "markdown",
      "source": [
        "### Contents, Children"
      ],
      "metadata": {
        "id": "HO865MB5I5kx"
      }
    },
    {
      "cell_type": "code",
      "source": [
        "soup"
      ],
      "metadata": {
        "colab": {
          "base_uri": "https://localhost:8080/"
        },
        "id": "Ce4LkgYTIule",
        "outputId": "5cd176d7-08b5-439b-9475-32eeb792d634"
      },
      "execution_count": null,
      "outputs": [
        {
          "output_type": "execute_result",
          "data": {
            "text/plain": [
              "\n",
              "<html><head><title>The Dormouse's story</title></head>\n",
              "<body>\n",
              "<p class=\"title\"><b>The Dormouse's story</b></p>\n",
              "<p class=\"story\">Once upon a time there were three little sisters; and their names were\n",
              "<a class=\"sister\" href=\"http://example.com/elsie\" id=\"link1\">Elsie</a>,\n",
              "<a class=\"sister\" href=\"http://example.com/lacie\" id=\"link2\">Lacie</a> and\n",
              "<a class=\"sister\" href=\"http://example.com/tillie\" id=\"link3\">Tillie</a>;\n",
              "and they lived at the bottom of a well.</p>\n",
              "<p class=\"story\">...</p>\n",
              "</body></html>"
            ]
          },
          "metadata": {},
          "execution_count": 177
        }
      ]
    },
    {
      "cell_type": "code",
      "source": [
        "head_tag = soup.head\n",
        "print(head_tag)\n",
        "print(head_tag.contents)\n",
        "print(head_tag.contents[0])\n",
        "print(head_tag.contents[0].string)\n",
        "print(head_tag.contents[0].get_text())"
      ],
      "metadata": {
        "colab": {
          "base_uri": "https://localhost:8080/"
        },
        "id": "48iqRa5HJDkW",
        "outputId": "ca0feed7-4d6a-4f2a-a65f-4a038ca4868a"
      },
      "execution_count": null,
      "outputs": [
        {
          "output_type": "stream",
          "name": "stdout",
          "text": [
            "<head><title>The Dormouse's story</title></head>\n",
            "[<title>The Dormouse's story</title>]\n",
            "<title>The Dormouse's story</title>\n",
            "The Dormouse's story\n",
            "The Dormouse's story\n"
          ]
        }
      ]
    },
    {
      "cell_type": "code",
      "source": [
        "title_tag = head_tag.contents[0]\n",
        "print(title_tag)\n",
        "print(title_tag.contents[0])"
      ],
      "metadata": {
        "colab": {
          "base_uri": "https://localhost:8080/"
        },
        "id": "Ng607_YRJJe2",
        "outputId": "37fc5473-5aed-4255-9496-d4791d0c50c8"
      },
      "execution_count": null,
      "outputs": [
        {
          "output_type": "stream",
          "name": "stdout",
          "text": [
            "<title>The Dormouse's story</title>\n",
            "The Dormouse's story\n"
          ]
        }
      ]
    },
    {
      "cell_type": "markdown",
      "source": [
        "Instead of getting them as a list, you can iterate over a tag’s children using the .children generator:"
      ],
      "metadata": {
        "id": "cg6zJTO-Wdbj"
      }
    },
    {
      "cell_type": "code",
      "source": [
        "for child in title_tag.children:\n",
        "  print(child)"
      ],
      "metadata": {
        "id": "GzK4UzBwJ9mm",
        "colab": {
          "base_uri": "https://localhost:8080/"
        },
        "outputId": "b06661d9-9034-4e95-8fd9-2d32dad5efc2"
      },
      "execution_count": 197,
      "outputs": [
        {
          "output_type": "stream",
          "name": "stdout",
          "text": [
            "The Dormouse's story\n"
          ]
        }
      ]
    },
    {
      "cell_type": "code",
      "source": [
        "for child in head_tag.children:\n",
        "  print(child)"
      ],
      "metadata": {
        "colab": {
          "base_uri": "https://localhost:8080/"
        },
        "id": "aaCNSr5UWk8k",
        "outputId": "0bf36b5f-581b-46eb-bfe2-b727953b0981"
      },
      "execution_count": 200,
      "outputs": [
        {
          "output_type": "stream",
          "name": "stdout",
          "text": [
            "<title>The Dormouse's story</title>\n"
          ]
        }
      ]
    },
    {
      "cell_type": "markdown",
      "source": [
        "**.descendants**"
      ],
      "metadata": {
        "id": "T719VaRaZUTh"
      }
    },
    {
      "cell_type": "code",
      "source": [
        "# descendants\n",
        "for child in head_tag.descendants:\n",
        "  print(child)"
      ],
      "metadata": {
        "colab": {
          "base_uri": "https://localhost:8080/"
        },
        "id": "mUI7suT5Wti8",
        "outputId": "7345387b-096b-4516-9f54-1496af95f01a"
      },
      "execution_count": 206,
      "outputs": [
        {
          "output_type": "stream",
          "name": "stdout",
          "text": [
            "<title>The Dormouse's story</title>\n",
            "The Dormouse's story\n"
          ]
        }
      ]
    },
    {
      "cell_type": "markdown",
      "source": [
        "The <head> tag has only one child, but it has two descendants: the <title> tag and the <title> tag’s child. The BeautifulSoup object only has one direct child (the <html> tag), but it has a whole lot of descendants:"
      ],
      "metadata": {
        "id": "gpL2qKgTXspl"
      }
    },
    {
      "cell_type": "code",
      "source": [
        "# a new line '\\n' is showing as a children. i dont know why\n",
        "len(list(soup.children))\n"
      ],
      "metadata": {
        "colab": {
          "base_uri": "https://localhost:8080/"
        },
        "id": "okRQftBHXAnb",
        "outputId": "c4347d3e-20e6-4e24-c771-c97abc32ab98"
      },
      "execution_count": 218,
      "outputs": [
        {
          "output_type": "execute_result",
          "data": {
            "text/plain": [
              "2"
            ]
          },
          "metadata": {},
          "execution_count": 218
        }
      ]
    },
    {
      "cell_type": "code",
      "source": [
        "len(list(soup.descendants))\n",
        "# a new line '\\n' is showing as a children. i dont know why"
      ],
      "metadata": {
        "colab": {
          "base_uri": "https://localhost:8080/"
        },
        "id": "aQCybcBSXvV0",
        "outputId": "a1543102-3e70-4028-e6b1-dc0ac1066c02"
      },
      "execution_count": 219,
      "outputs": [
        {
          "output_type": "execute_result",
          "data": {
            "text/plain": [
              "27"
            ]
          },
          "metadata": {},
          "execution_count": 219
        }
      ]
    },
    {
      "cell_type": "markdown",
      "source": [
        "**.string**"
      ],
      "metadata": {
        "id": "EzzkI9fGZRfL"
      }
    },
    {
      "cell_type": "markdown",
      "source": [
        "If a tag has only one child, and that child is a NavigableString, the child is made available as .string:"
      ],
      "metadata": {
        "id": "_EHu7gN1ZdQt"
      }
    },
    {
      "cell_type": "code",
      "source": [
        "title_tag.string"
      ],
      "metadata": {
        "colab": {
          "base_uri": "https://localhost:8080/",
          "height": 36
        },
        "id": "SBp8h0DWYXyr",
        "outputId": "fb933677-8f34-4413-f6f2-e16eef86a33c"
      },
      "execution_count": 222,
      "outputs": [
        {
          "output_type": "execute_result",
          "data": {
            "text/plain": [
              "\"The Dormouse's story\""
            ],
            "application/vnd.google.colaboratory.intrinsic+json": {
              "type": "string"
            }
          },
          "metadata": {},
          "execution_count": 222
        }
      ]
    },
    {
      "cell_type": "markdown",
      "source": [
        "If a tag’s only child is another tag, and that tag has a .string, then the parent tag is considered to have the same .string as its child:"
      ],
      "metadata": {
        "id": "yAoThRNNZhoW"
      }
    },
    {
      "cell_type": "code",
      "source": [
        "head_tag.contents"
      ],
      "metadata": {
        "colab": {
          "base_uri": "https://localhost:8080/"
        },
        "id": "mEXUDavlZfHT",
        "outputId": "2cfa4955-a8c8-49da-a5f9-9879d75de27f"
      },
      "execution_count": 223,
      "outputs": [
        {
          "output_type": "execute_result",
          "data": {
            "text/plain": [
              "[<title>The Dormouse's story</title>]"
            ]
          },
          "metadata": {},
          "execution_count": 223
        }
      ]
    },
    {
      "cell_type": "code",
      "source": [
        "head_tag.string"
      ],
      "metadata": {
        "colab": {
          "base_uri": "https://localhost:8080/",
          "height": 36
        },
        "id": "3quJHfPRZkh7",
        "outputId": "3070ffce-7215-4dd9-f3a7-51c6f8b56dc7"
      },
      "execution_count": 224,
      "outputs": [
        {
          "output_type": "execute_result",
          "data": {
            "text/plain": [
              "\"The Dormouse's story\""
            ],
            "application/vnd.google.colaboratory.intrinsic+json": {
              "type": "string"
            }
          },
          "metadata": {},
          "execution_count": 224
        }
      ]
    },
    {
      "cell_type": "markdown",
      "source": [
        "If a tag contains more than one thing, then it’s not clear what .string should refer to, so .string is defined to be None:"
      ],
      "metadata": {
        "id": "rkAlvdIfZu5M"
      }
    },
    {
      "cell_type": "code",
      "source": [
        "soup.html.string"
      ],
      "metadata": {
        "id": "HSNmxMk_Zsts"
      },
      "execution_count": 225,
      "outputs": []
    },
    {
      "cell_type": "markdown",
      "source": [
        "**.strings and .stripped_strings**"
      ],
      "metadata": {
        "id": "2JcQNr64Z4tf"
      }
    },
    {
      "cell_type": "markdown",
      "source": [
        "If there’s more than one thing inside a tag, you can still look at just the strings. Use the .strings generator:"
      ],
      "metadata": {
        "id": "SWEJj9z7Z9e1"
      }
    },
    {
      "cell_type": "code",
      "source": [
        "for string in soup.strings:\n",
        "  print(string)"
      ],
      "metadata": {
        "colab": {
          "base_uri": "https://localhost:8080/"
        },
        "id": "2Pjq65C0ag77",
        "outputId": "1ed25db0-7673-4e37-b21c-e0e0d0d81152"
      },
      "execution_count": 238,
      "outputs": [
        {
          "output_type": "stream",
          "name": "stdout",
          "text": [
            "\n",
            "\n",
            "The Dormouse's story\n",
            "\n",
            "\n",
            "\n",
            "\n",
            "The Dormouse's story\n",
            "\n",
            "\n",
            "Once upon a time there were three little sisters; and their names were\n",
            "\n",
            "Elsie\n",
            ",\n",
            "\n",
            "Lacie\n",
            " and\n",
            "\n",
            "Tillie\n",
            ";\n",
            "and they lived at the bottom of a well.\n",
            "\n",
            "\n",
            "...\n",
            "\n",
            "\n"
          ]
        }
      ]
    },
    {
      "cell_type": "code",
      "source": [
        "# to remove whitespace use .stripped_strings\n",
        "for string in soup.stripped_strings:\n",
        "  print(string)"
      ],
      "metadata": {
        "colab": {
          "base_uri": "https://localhost:8080/"
        },
        "id": "lGGamftJa_qL",
        "outputId": "83664a9b-b6db-4e9e-ab5d-c7f36080fad8"
      },
      "execution_count": 239,
      "outputs": [
        {
          "output_type": "stream",
          "name": "stdout",
          "text": [
            "The Dormouse's story\n",
            "The Dormouse's story\n",
            "Once upon a time there were three little sisters; and their names were\n",
            "Elsie\n",
            ",\n",
            "Lacie\n",
            "and\n",
            "Tillie\n",
            ";\n",
            "and they lived at the bottom of a well.\n",
            "...\n"
          ]
        }
      ]
    },
    {
      "cell_type": "markdown",
      "source": [
        "**.parent and .parents**"
      ],
      "metadata": {
        "id": "_nr1i3Fnbza8"
      }
    },
    {
      "cell_type": "code",
      "source": [
        "title_tag.parent"
      ],
      "metadata": {
        "colab": {
          "base_uri": "https://localhost:8080/"
        },
        "id": "VORGFrpAbajL",
        "outputId": "1bb14ca2-f84e-4d07-b512-76d69b30b6bf"
      },
      "execution_count": 240,
      "outputs": [
        {
          "output_type": "execute_result",
          "data": {
            "text/plain": [
              "<head><title>The Dormouse's story</title></head>"
            ]
          },
          "metadata": {},
          "execution_count": 240
        }
      ]
    },
    {
      "cell_type": "code",
      "source": [
        "title_tag.string.parent"
      ],
      "metadata": {
        "colab": {
          "base_uri": "https://localhost:8080/"
        },
        "id": "tdA8AHuqcKic",
        "outputId": "102e6606-f920-4eaa-c4b1-20aca3e4a3f9"
      },
      "execution_count": 241,
      "outputs": [
        {
          "output_type": "execute_result",
          "data": {
            "text/plain": [
              "<title>The Dormouse's story</title>"
            ]
          },
          "metadata": {},
          "execution_count": 241
        }
      ]
    },
    {
      "cell_type": "code",
      "source": [
        "head_tag.parent.name"
      ],
      "metadata": {
        "colab": {
          "base_uri": "https://localhost:8080/",
          "height": 36
        },
        "id": "_PSCv0M8cNda",
        "outputId": "99327c77-6f96-4159-be81-e258a95da781"
      },
      "execution_count": 257,
      "outputs": [
        {
          "output_type": "execute_result",
          "data": {
            "text/plain": [
              "'html'"
            ],
            "application/vnd.google.colaboratory.intrinsic+json": {
              "type": "string"
            }
          },
          "metadata": {},
          "execution_count": 257
        }
      ]
    },
    {
      "cell_type": "code",
      "source": [
        "soup.parent\n",
        "# none"
      ],
      "metadata": {
        "id": "E7GFz1rycPPz"
      },
      "execution_count": 259,
      "outputs": []
    },
    {
      "cell_type": "code",
      "source": [
        "body_tag = soup.body\n",
        "body_tag"
      ],
      "metadata": {
        "colab": {
          "base_uri": "https://localhost:8080/"
        },
        "id": "P00DIB5NcRUT",
        "outputId": "df694e4a-b206-4cc0-e6d3-09906b05ba80"
      },
      "execution_count": 246,
      "outputs": [
        {
          "output_type": "execute_result",
          "data": {
            "text/plain": [
              "<body>\n",
              "<p class=\"title\"><b>The Dormouse's story</b></p>\n",
              "<p class=\"story\">Once upon a time there were three little sisters; and their names were\n",
              "<a class=\"sister\" href=\"http://example.com/elsie\" id=\"link1\">Elsie</a>,\n",
              "<a class=\"sister\" href=\"http://example.com/lacie\" id=\"link2\">Lacie</a> and\n",
              "<a class=\"sister\" href=\"http://example.com/tillie\" id=\"link3\">Tillie</a>;\n",
              "and they lived at the bottom of a well.</p>\n",
              "<p class=\"story\">...</p>\n",
              "</body>"
            ]
          },
          "metadata": {},
          "execution_count": 246
        }
      ]
    },
    {
      "cell_type": "code",
      "source": [
        "body_tag.parent.name"
      ],
      "metadata": {
        "colab": {
          "base_uri": "https://localhost:8080/",
          "height": 36
        },
        "id": "qSTCnk5icWga",
        "outputId": "b4fd4b63-4593-45c6-e0b7-d7158984c4b4"
      },
      "execution_count": 256,
      "outputs": [
        {
          "output_type": "execute_result",
          "data": {
            "text/plain": [
              "'html'"
            ],
            "application/vnd.google.colaboratory.intrinsic+json": {
              "type": "string"
            }
          },
          "metadata": {},
          "execution_count": 256
        }
      ]
    },
    {
      "cell_type": "code",
      "source": [
        "link1 = soup.a\n",
        "print(link1)"
      ],
      "metadata": {
        "colab": {
          "base_uri": "https://localhost:8080/"
        },
        "id": "et2F_GfTcalq",
        "outputId": "3af18cf7-a06c-4850-dc68-03305d2a4169"
      },
      "execution_count": 252,
      "outputs": [
        {
          "output_type": "stream",
          "name": "stdout",
          "text": [
            "<a class=\"sister\" href=\"http://example.com/elsie\" id=\"link1\">Elsie</a>\n"
          ]
        }
      ]
    },
    {
      "cell_type": "code",
      "source": [
        "for parent in link1.parents:\n",
        "  print(parent.name)"
      ],
      "metadata": {
        "colab": {
          "base_uri": "https://localhost:8080/"
        },
        "id": "Bx4cBnQWckDj",
        "outputId": "43311a3f-409e-49c9-b280-d631f9ab305a"
      },
      "execution_count": 254,
      "outputs": [
        {
          "output_type": "stream",
          "name": "stdout",
          "text": [
            "p\n",
            "body\n",
            "html\n",
            "[document]\n"
          ]
        }
      ]
    },
    {
      "cell_type": "code",
      "source": [
        "for parent in link1.parents:\n",
        "  print(parent)\n",
        "  print('\\n \\n')"
      ],
      "metadata": {
        "colab": {
          "base_uri": "https://localhost:8080/"
        },
        "id": "i-fo2yG4c2pK",
        "outputId": "5e83fad0-66ab-4eb3-dbb8-e94e36181540"
      },
      "execution_count": 260,
      "outputs": [
        {
          "output_type": "stream",
          "name": "stdout",
          "text": [
            "<p class=\"story\">Once upon a time there were three little sisters; and their names were\n",
            "<a class=\"sister\" href=\"http://example.com/elsie\" id=\"link1\">Elsie</a>,\n",
            "<a class=\"sister\" href=\"http://example.com/lacie\" id=\"link2\">Lacie</a> and\n",
            "<a class=\"sister\" href=\"http://example.com/tillie\" id=\"link3\">Tillie</a>;\n",
            "and they lived at the bottom of a well.</p>\n",
            "\n",
            " \n",
            "\n",
            "<body>\n",
            "<p class=\"title\"><b>The Dormouse's story</b></p>\n",
            "<p class=\"story\">Once upon a time there were three little sisters; and their names were\n",
            "<a class=\"sister\" href=\"http://example.com/elsie\" id=\"link1\">Elsie</a>,\n",
            "<a class=\"sister\" href=\"http://example.com/lacie\" id=\"link2\">Lacie</a> and\n",
            "<a class=\"sister\" href=\"http://example.com/tillie\" id=\"link3\">Tillie</a>;\n",
            "and they lived at the bottom of a well.</p>\n",
            "<p class=\"story\">...</p>\n",
            "</body>\n",
            "\n",
            " \n",
            "\n",
            "<html><head><title>The Dormouse's story</title></head>\n",
            "<body>\n",
            "<p class=\"title\"><b>The Dormouse's story</b></p>\n",
            "<p class=\"story\">Once upon a time there were three little sisters; and their names were\n",
            "<a class=\"sister\" href=\"http://example.com/elsie\" id=\"link1\">Elsie</a>,\n",
            "<a class=\"sister\" href=\"http://example.com/lacie\" id=\"link2\">Lacie</a> and\n",
            "<a class=\"sister\" href=\"http://example.com/tillie\" id=\"link3\">Tillie</a>;\n",
            "and they lived at the bottom of a well.</p>\n",
            "<p class=\"story\">...</p>\n",
            "</body></html>\n",
            "\n",
            " \n",
            "\n",
            "\n",
            "<html><head><title>The Dormouse's story</title></head>\n",
            "<body>\n",
            "<p class=\"title\"><b>The Dormouse's story</b></p>\n",
            "<p class=\"story\">Once upon a time there were three little sisters; and their names were\n",
            "<a class=\"sister\" href=\"http://example.com/elsie\" id=\"link1\">Elsie</a>,\n",
            "<a class=\"sister\" href=\"http://example.com/lacie\" id=\"link2\">Lacie</a> and\n",
            "<a class=\"sister\" href=\"http://example.com/tillie\" id=\"link3\">Tillie</a>;\n",
            "and they lived at the bottom of a well.</p>\n",
            "<p class=\"story\">...</p>\n",
            "</body></html>\n",
            "\n",
            " \n",
            "\n"
          ]
        }
      ]
    },
    {
      "cell_type": "markdown",
      "source": [
        "### **Going sideways**"
      ],
      "metadata": {
        "id": "MQ22Fb1Qdk6k"
      }
    },
    {
      "cell_type": "code",
      "source": [
        "sibling_soup = BeautifulSoup(\"<a><b>text1</b><c>text2</c></a>\", 'html.parser')\n",
        "print(sibling_soup.prettify())"
      ],
      "metadata": {
        "colab": {
          "base_uri": "https://localhost:8080/"
        },
        "id": "NwrMHMXwc8GE",
        "outputId": "ca118637-88de-4038-ad0e-ff492e1591e7"
      },
      "execution_count": 261,
      "outputs": [
        {
          "output_type": "stream",
          "name": "stdout",
          "text": [
            "<a>\n",
            " <b>\n",
            "  text1\n",
            " </b>\n",
            " <c>\n",
            "  text2\n",
            " </c>\n",
            "</a>\n"
          ]
        }
      ]
    },
    {
      "cell_type": "markdown",
      "source": [
        "The < b> tag and the < c> tag are at the same level: they’re both direct children of the same tag. We call them siblings. When a document is pretty-printed, siblings show up at the same indentation level."
      ],
      "metadata": {
        "id": "yOuwH1ZweRU0"
      }
    },
    {
      "cell_type": "markdown",
      "source": [
        "**.next_sibling, .previous_sibling**"
      ],
      "metadata": {
        "id": "vsfPMgnPeZig"
      }
    },
    {
      "cell_type": "code",
      "source": [
        "sibling_soup"
      ],
      "metadata": {
        "colab": {
          "base_uri": "https://localhost:8080/"
        },
        "id": "BgyEdV1PeSOu",
        "outputId": "8416b69e-070c-48b3-9c56-d110f92a6dc3"
      },
      "execution_count": 262,
      "outputs": [
        {
          "output_type": "execute_result",
          "data": {
            "text/plain": [
              "<a><b>text1</b><c>text2</c></a>"
            ]
          },
          "metadata": {},
          "execution_count": 262
        }
      ]
    },
    {
      "cell_type": "code",
      "source": [
        "b = sibling_soup.b\n",
        "print(b)"
      ],
      "metadata": {
        "colab": {
          "base_uri": "https://localhost:8080/"
        },
        "id": "cxbgW4Y6eiW6",
        "outputId": "0a839517-e8e1-4905-c4e0-fc7f14c6fd48"
      },
      "execution_count": 265,
      "outputs": [
        {
          "output_type": "stream",
          "name": "stdout",
          "text": [
            "<b>text1</b>\n"
          ]
        }
      ]
    },
    {
      "cell_type": "code",
      "source": [
        " # c = sibling_soup.b.next_sibling\n",
        " c = b.next_sibling\n",
        " print(c)"
      ],
      "metadata": {
        "colab": {
          "base_uri": "https://localhost:8080/"
        },
        "id": "bzrDWz3TekMq",
        "outputId": "665f5e14-39ec-4aea-ba57-fecfea15013a"
      },
      "execution_count": 273,
      "outputs": [
        {
          "output_type": "stream",
          "name": "stdout",
          "text": [
            "<c>text2</c>\n"
          ]
        }
      ]
    },
    {
      "cell_type": "code",
      "source": [
        "print(c.next_sibling)\n"
      ],
      "metadata": {
        "colab": {
          "base_uri": "https://localhost:8080/"
        },
        "id": "ZshgCIaKeoHz",
        "outputId": "77fda706-3d1f-41ea-b743-67c0ee33f1ca"
      },
      "execution_count": 274,
      "outputs": [
        {
          "output_type": "stream",
          "name": "stdout",
          "text": [
            "None\n"
          ]
        }
      ]
    },
    {
      "cell_type": "code",
      "source": [
        "print(b.previous_sibling)"
      ],
      "metadata": {
        "colab": {
          "base_uri": "https://localhost:8080/"
        },
        "id": "teMxad6ue10M",
        "outputId": "99ad4785-24f4-4430-94b8-25f2630e585f"
      },
      "execution_count": 275,
      "outputs": [
        {
          "output_type": "stream",
          "name": "stdout",
          "text": [
            "None\n"
          ]
        }
      ]
    },
    {
      "cell_type": "code",
      "source": [
        "soup"
      ],
      "metadata": {
        "colab": {
          "base_uri": "https://localhost:8080/"
        },
        "id": "Y7mTjn3NfPiy",
        "outputId": "b45cba7e-f106-4890-c681-390e8afc86d5"
      },
      "execution_count": 276,
      "outputs": [
        {
          "output_type": "execute_result",
          "data": {
            "text/plain": [
              "\n",
              "<html><head><title>The Dormouse's story</title></head>\n",
              "<body>\n",
              "<p class=\"title\"><b>The Dormouse's story</b></p>\n",
              "<p class=\"story\">Once upon a time there were three little sisters; and their names were\n",
              "<a class=\"sister\" href=\"http://example.com/elsie\" id=\"link1\">Elsie</a>,\n",
              "<a class=\"sister\" href=\"http://example.com/lacie\" id=\"link2\">Lacie</a> and\n",
              "<a class=\"sister\" href=\"http://example.com/tillie\" id=\"link3\">Tillie</a>;\n",
              "and they lived at the bottom of a well.</p>\n",
              "<p class=\"story\">...</p>\n",
              "</body></html>"
            ]
          },
          "metadata": {},
          "execution_count": 276
        }
      ]
    },
    {
      "cell_type": "code",
      "source": [
        "link1 = soup.a\n",
        "print(link1)"
      ],
      "metadata": {
        "colab": {
          "base_uri": "https://localhost:8080/"
        },
        "id": "sLWnS9JAfRLC",
        "outputId": "314f7672-128a-4f93-ba8e-c1083cceba19"
      },
      "execution_count": 278,
      "outputs": [
        {
          "output_type": "stream",
          "name": "stdout",
          "text": [
            "<a class=\"sister\" href=\"http://example.com/elsie\" id=\"link1\">Elsie</a>\n"
          ]
        }
      ]
    },
    {
      "cell_type": "code",
      "source": [
        "comma = link1.next_sibling\n",
        "print(comma)"
      ],
      "metadata": {
        "colab": {
          "base_uri": "https://localhost:8080/"
        },
        "id": "1ppEm8-YfT4a",
        "outputId": "d1b7b38f-2b65-4dfd-9850-14c38df209fd"
      },
      "execution_count": 280,
      "outputs": [
        {
          "output_type": "stream",
          "name": "stdout",
          "text": [
            ",\n",
            "\n"
          ]
        }
      ]
    },
    {
      "cell_type": "code",
      "source": [
        "link2 = comma.next_sibling\n",
        "print(link2)"
      ],
      "metadata": {
        "colab": {
          "base_uri": "https://localhost:8080/"
        },
        "id": "Xin8eChpfZpK",
        "outputId": "49eab346-1207-4b33-8806-00033117506c"
      },
      "execution_count": 282,
      "outputs": [
        {
          "output_type": "stream",
          "name": "stdout",
          "text": [
            "<a class=\"sister\" href=\"http://example.com/lacie\" id=\"link2\">Lacie</a>\n"
          ]
        }
      ]
    },
    {
      "cell_type": "code",
      "source": [
        "ands = link2.next_sibling\n",
        "print(ands)"
      ],
      "metadata": {
        "colab": {
          "base_uri": "https://localhost:8080/"
        },
        "id": "KZ0gC_jZfj9K",
        "outputId": "b3f0d951-b28f-481f-ec67-d475a28c828a"
      },
      "execution_count": 283,
      "outputs": [
        {
          "output_type": "stream",
          "name": "stdout",
          "text": [
            " and\n",
            "\n"
          ]
        }
      ]
    },
    {
      "cell_type": "markdown",
      "source": [
        "**.next_siblings, .previous_siblings**"
      ],
      "metadata": {
        "id": "Oiv5vq2ZgFrf"
      }
    },
    {
      "cell_type": "code",
      "source": [
        "print(soup.a.string)\n",
        "for sibling in soup.a.next_siblings:\n",
        "  # print(sibling.string)\n",
        "  print(sibling)"
      ],
      "metadata": {
        "colab": {
          "base_uri": "https://localhost:8080/"
        },
        "id": "BbGHjam_gBUy",
        "outputId": "fdf27324-8d16-4a1f-de24-16625bde9b8a"
      },
      "execution_count": 289,
      "outputs": [
        {
          "output_type": "stream",
          "name": "stdout",
          "text": [
            "Elsie\n",
            ",\n",
            "\n",
            "<a class=\"sister\" href=\"http://example.com/lacie\" id=\"link2\">Lacie</a>\n",
            " and\n",
            "\n",
            "<a class=\"sister\" href=\"http://example.com/tillie\" id=\"link3\">Tillie</a>\n",
            ";\n",
            "and they lived at the bottom of a well.\n"
          ]
        }
      ]
    },
    {
      "cell_type": "code",
      "source": [
        "soup.p"
      ],
      "metadata": {
        "colab": {
          "base_uri": "https://localhost:8080/"
        },
        "id": "wsVhvQT7ghCK",
        "outputId": "095a23e3-5c31-4bf1-cf8e-80448830a458"
      },
      "execution_count": 290,
      "outputs": [
        {
          "output_type": "execute_result",
          "data": {
            "text/plain": [
              "<p class=\"title\"><b>The Dormouse's story</b></p>"
            ]
          },
          "metadata": {},
          "execution_count": 290
        }
      ]
    },
    {
      "cell_type": "code",
      "source": [
        "soup"
      ],
      "metadata": {
        "colab": {
          "base_uri": "https://localhost:8080/"
        },
        "id": "QEmzJnW7hfke",
        "outputId": "2a853f47-4958-4651-8e17-87f4c14a3465"
      },
      "execution_count": 299,
      "outputs": [
        {
          "output_type": "execute_result",
          "data": {
            "text/plain": [
              "\n",
              "<html><head><title>The Dormouse's story</title></head>\n",
              "<body>\n",
              "<p class=\"title\"><b>The Dormouse's story</b></p>\n",
              "<p class=\"story\">Once upon a time there were three little sisters; and their names were\n",
              "<a class=\"sister\" href=\"http://example.com/elsie\" id=\"link1\">Elsie</a>,\n",
              "<a class=\"sister\" href=\"http://example.com/lacie\" id=\"link2\">Lacie</a> and\n",
              "<a class=\"sister\" href=\"http://example.com/tillie\" id=\"link3\">Tillie</a>;\n",
              "and they lived at the bottom of a well.</p>\n",
              "<p class=\"story\">...</p>\n",
              "</body></html>"
            ]
          },
          "metadata": {},
          "execution_count": 299
        }
      ]
    },
    {
      "cell_type": "code",
      "source": [
        "for p in soup.p.strings:\n",
        "  print(p)"
      ],
      "metadata": {
        "colab": {
          "base_uri": "https://localhost:8080/"
        },
        "id": "Ur1nuxhgg5kS",
        "outputId": "c268de65-1733-4ce0-d6a0-f23fe8c4602e"
      },
      "execution_count": 304,
      "outputs": [
        {
          "output_type": "stream",
          "name": "stdout",
          "text": [
            "The Dormouse's story\n"
          ]
        }
      ]
    },
    {
      "cell_type": "markdown",
      "source": [
        "### **Going back and forth**"
      ],
      "metadata": {
        "id": "ew74KW7nimJp"
      }
    },
    {
      "cell_type": "markdown",
      "source": [
        "**.next_element, .previous_element**"
      ],
      "metadata": {
        "id": "dV-vcKWLjPEb"
      }
    },
    {
      "cell_type": "code",
      "source": [
        "a = soup.find(id = 'link3')\n",
        "print(a)\n",
        "a.next_sibling"
      ],
      "metadata": {
        "colab": {
          "base_uri": "https://localhost:8080/",
          "height": 54
        },
        "id": "AEjMlpYvg-6K",
        "outputId": "dac607cd-f5a2-4efc-c6cf-9e5536b8118c"
      },
      "execution_count": 306,
      "outputs": [
        {
          "output_type": "stream",
          "name": "stdout",
          "text": [
            "<a class=\"sister\" href=\"http://example.com/tillie\" id=\"link3\">Tillie</a>\n"
          ]
        },
        {
          "output_type": "execute_result",
          "data": {
            "text/plain": [
              "';\\nand they lived at the bottom of a well.'"
            ],
            "application/vnd.google.colaboratory.intrinsic+json": {
              "type": "string"
            }
          },
          "metadata": {},
          "execution_count": 306
        }
      ]
    },
    {
      "cell_type": "code",
      "source": [
        "soup"
      ],
      "metadata": {
        "colab": {
          "base_uri": "https://localhost:8080/"
        },
        "id": "skdOxxXGivdZ",
        "outputId": "193dd45d-6993-4e78-a0f7-7fe39cac6ec4"
      },
      "execution_count": 307,
      "outputs": [
        {
          "output_type": "execute_result",
          "data": {
            "text/plain": [
              "\n",
              "<html><head><title>The Dormouse's story</title></head>\n",
              "<body>\n",
              "<p class=\"title\"><b>The Dormouse's story</b></p>\n",
              "<p class=\"story\">Once upon a time there were three little sisters; and their names were\n",
              "<a class=\"sister\" href=\"http://example.com/elsie\" id=\"link1\">Elsie</a>,\n",
              "<a class=\"sister\" href=\"http://example.com/lacie\" id=\"link2\">Lacie</a> and\n",
              "<a class=\"sister\" href=\"http://example.com/tillie\" id=\"link3\">Tillie</a>;\n",
              "and they lived at the bottom of a well.</p>\n",
              "<p class=\"story\">...</p>\n",
              "</body></html>"
            ]
          },
          "metadata": {},
          "execution_count": 307
        }
      ]
    },
    {
      "cell_type": "code",
      "source": [
        "a = soup.find(id= 'link1')\n",
        "print(a.next_sibling)"
      ],
      "metadata": {
        "colab": {
          "base_uri": "https://localhost:8080/"
        },
        "id": "dktVUhfEjWSB",
        "outputId": "888cfa21-3495-4c23-b6e4-865bc5c28025"
      },
      "execution_count": 309,
      "outputs": [
        {
          "output_type": "stream",
          "name": "stdout",
          "text": [
            ",\n",
            "\n"
          ]
        }
      ]
    },
    {
      "cell_type": "code",
      "source": [
        "print(a.next_element)"
      ],
      "metadata": {
        "colab": {
          "base_uri": "https://localhost:8080/"
        },
        "id": "uhT6vPxvjbYJ",
        "outputId": "ddb2cf29-2c15-474f-eb8a-2c608da59b1b"
      },
      "execution_count": 310,
      "outputs": [
        {
          "output_type": "stream",
          "name": "stdout",
          "text": [
            "Elsie\n"
          ]
        }
      ]
    },
    {
      "cell_type": "markdown",
      "source": [
        "That’s because in the original markup, the word “Elsie” appeared before that comma. The parser encountered an < a> tag, then the word “Elsie”, then the closing < /a> tag, then the comma and rest of the sentence. The comma is on the same level as the < a> tag, but the word “Elsie” was encountered first."
      ],
      "metadata": {
        "id": "I10WgreRkNrj"
      }
    },
    {
      "cell_type": "code",
      "source": [
        "n_element = a.next_element\n",
        "print(n_element)"
      ],
      "metadata": {
        "colab": {
          "base_uri": "https://localhost:8080/"
        },
        "id": "s9Ja2AekjrwL",
        "outputId": "b77ded44-495c-413a-b13e-6b24cf29fed4"
      },
      "execution_count": 315,
      "outputs": [
        {
          "output_type": "stream",
          "name": "stdout",
          "text": [
            "Elsie\n"
          ]
        }
      ]
    },
    {
      "cell_type": "code",
      "source": [
        "n_element.next_element"
      ],
      "metadata": {
        "colab": {
          "base_uri": "https://localhost:8080/",
          "height": 36
        },
        "id": "6nxHs2SFkdGM",
        "outputId": "2eb9a7e3-a054-4c49-b2d2-b4ed0cf637b1"
      },
      "execution_count": 316,
      "outputs": [
        {
          "output_type": "execute_result",
          "data": {
            "text/plain": [
              "',\\n'"
            ],
            "application/vnd.google.colaboratory.intrinsic+json": {
              "type": "string"
            }
          },
          "metadata": {},
          "execution_count": 316
        }
      ]
    },
    {
      "cell_type": "code",
      "source": [
        "n_element.next_element.next_element\n",
        "# lacie.previous_element"
      ],
      "metadata": {
        "colab": {
          "base_uri": "https://localhost:8080/"
        },
        "id": "z-XAGwV0kiSX",
        "outputId": "78ce522d-210b-42ed-99bc-75e70a607a5e"
      },
      "execution_count": 317,
      "outputs": [
        {
          "output_type": "execute_result",
          "data": {
            "text/plain": [
              "<a class=\"sister\" href=\"http://example.com/lacie\" id=\"link2\">Lacie</a>"
            ]
          },
          "metadata": {},
          "execution_count": 317
        }
      ]
    },
    {
      "cell_type": "code",
      "source": [
        "lacie = n_element.next_element.next_element.next_element\n",
        "lacie"
      ],
      "metadata": {
        "colab": {
          "base_uri": "https://localhost:8080/",
          "height": 36
        },
        "id": "4CHvWkyGkl_y",
        "outputId": "c7799559-d6bc-4c8a-ccaf-2657d874fb69"
      },
      "execution_count": 319,
      "outputs": [
        {
          "output_type": "execute_result",
          "data": {
            "text/plain": [
              "'Lacie'"
            ],
            "application/vnd.google.colaboratory.intrinsic+json": {
              "type": "string"
            }
          },
          "metadata": {},
          "execution_count": 319
        }
      ]
    },
    {
      "cell_type": "code",
      "source": [
        "type(a.string)"
      ],
      "metadata": {
        "colab": {
          "base_uri": "https://localhost:8080/"
        },
        "id": "m8EKy6gdjks5",
        "outputId": "22455ee3-88d3-4d14-e3ed-d6ba95e55382"
      },
      "execution_count": 313,
      "outputs": [
        {
          "output_type": "execute_result",
          "data": {
            "text/plain": [
              "bs4.element.NavigableString"
            ]
          },
          "metadata": {},
          "execution_count": 313
        }
      ]
    },
    {
      "cell_type": "code",
      "source": [
        "lacie.previous_element"
      ],
      "metadata": {
        "colab": {
          "base_uri": "https://localhost:8080/"
        },
        "id": "z3XTmM9JjorS",
        "outputId": "f8d0ce2c-4007-41e0-bf5a-9f095abb8685"
      },
      "execution_count": 320,
      "outputs": [
        {
          "output_type": "execute_result",
          "data": {
            "text/plain": [
              "<a class=\"sister\" href=\"http://example.com/lacie\" id=\"link2\">Lacie</a>"
            ]
          },
          "metadata": {},
          "execution_count": 320
        }
      ]
    },
    {
      "cell_type": "code",
      "source": [
        "for element in a.next_elements:\n",
        "  print(element)"
      ],
      "metadata": {
        "colab": {
          "base_uri": "https://localhost:8080/"
        },
        "id": "R345HOUpkwnB",
        "outputId": "5c7715f9-2f13-408b-afa8-59975d8fa841"
      },
      "execution_count": 321,
      "outputs": [
        {
          "output_type": "stream",
          "name": "stdout",
          "text": [
            "Elsie\n",
            ",\n",
            "\n",
            "<a class=\"sister\" href=\"http://example.com/lacie\" id=\"link2\">Lacie</a>\n",
            "Lacie\n",
            " and\n",
            "\n",
            "<a class=\"sister\" href=\"http://example.com/tillie\" id=\"link3\">Tillie</a>\n",
            "Tillie\n",
            ";\n",
            "and they lived at the bottom of a well.\n",
            "\n",
            "\n",
            "<p class=\"story\">...</p>\n",
            "...\n",
            "\n",
            "\n"
          ]
        }
      ]
    },
    {
      "cell_type": "code",
      "source": [
        "soup"
      ],
      "metadata": {
        "colab": {
          "base_uri": "https://localhost:8080/"
        },
        "id": "YYWSQN_Zk7Ox",
        "outputId": "5e54830e-1e70-4ebc-e317-95bebd52109f"
      },
      "execution_count": 322,
      "outputs": [
        {
          "output_type": "execute_result",
          "data": {
            "text/plain": [
              "\n",
              "<html><head><title>The Dormouse's story</title></head>\n",
              "<body>\n",
              "<p class=\"title\"><b>The Dormouse's story</b></p>\n",
              "<p class=\"story\">Once upon a time there were three little sisters; and their names were\n",
              "<a class=\"sister\" href=\"http://example.com/elsie\" id=\"link1\">Elsie</a>,\n",
              "<a class=\"sister\" href=\"http://example.com/lacie\" id=\"link2\">Lacie</a> and\n",
              "<a class=\"sister\" href=\"http://example.com/tillie\" id=\"link3\">Tillie</a>;\n",
              "and they lived at the bottom of a well.</p>\n",
              "<p class=\"story\">...</p>\n",
              "</body></html>"
            ]
          },
          "metadata": {},
          "execution_count": 322
        }
      ]
    },
    {
      "cell_type": "code",
      "source": [
        "a3 = soup.find(id = 'link3')\n",
        "print(a3)"
      ],
      "metadata": {
        "colab": {
          "base_uri": "https://localhost:8080/"
        },
        "id": "XpSHNnWBlE6y",
        "outputId": "13ff919a-0287-4568-9848-3bd33c75eaf0"
      },
      "execution_count": 328,
      "outputs": [
        {
          "output_type": "stream",
          "name": "stdout",
          "text": [
            "<a class=\"sister\" href=\"http://example.com/tillie\" id=\"link3\">Tillie</a>\n"
          ]
        }
      ]
    },
    {
      "cell_type": "code",
      "source": [
        "for element in a3.previous_elements:\n",
        "  print(element)"
      ],
      "metadata": {
        "colab": {
          "base_uri": "https://localhost:8080/"
        },
        "id": "afY0-t7PlKQZ",
        "outputId": "eac186c7-17d3-4329-f79d-24640ed67254"
      },
      "execution_count": 329,
      "outputs": [
        {
          "output_type": "stream",
          "name": "stdout",
          "text": [
            " and\n",
            "\n",
            "Lacie\n",
            "<a class=\"sister\" href=\"http://example.com/lacie\" id=\"link2\">Lacie</a>\n",
            ",\n",
            "\n",
            "Elsie\n",
            "<a class=\"sister\" href=\"http://example.com/elsie\" id=\"link1\">Elsie</a>\n",
            "Once upon a time there were three little sisters; and their names were\n",
            "\n",
            "<p class=\"story\">Once upon a time there were three little sisters; and their names were\n",
            "<a class=\"sister\" href=\"http://example.com/elsie\" id=\"link1\">Elsie</a>,\n",
            "<a class=\"sister\" href=\"http://example.com/lacie\" id=\"link2\">Lacie</a> and\n",
            "<a class=\"sister\" href=\"http://example.com/tillie\" id=\"link3\">Tillie</a>;\n",
            "and they lived at the bottom of a well.</p>\n",
            "\n",
            "\n",
            "The Dormouse's story\n",
            "<b>The Dormouse's story</b>\n",
            "<p class=\"title\"><b>The Dormouse's story</b></p>\n",
            "\n",
            "\n",
            "<body>\n",
            "<p class=\"title\"><b>The Dormouse's story</b></p>\n",
            "<p class=\"story\">Once upon a time there were three little sisters; and their names were\n",
            "<a class=\"sister\" href=\"http://example.com/elsie\" id=\"link1\">Elsie</a>,\n",
            "<a class=\"sister\" href=\"http://example.com/lacie\" id=\"link2\">Lacie</a> and\n",
            "<a class=\"sister\" href=\"http://example.com/tillie\" id=\"link3\">Tillie</a>;\n",
            "and they lived at the bottom of a well.</p>\n",
            "<p class=\"story\">...</p>\n",
            "</body>\n",
            "\n",
            "\n",
            "The Dormouse's story\n",
            "<title>The Dormouse's story</title>\n",
            "<head><title>The Dormouse's story</title></head>\n",
            "<html><head><title>The Dormouse's story</title></head>\n",
            "<body>\n",
            "<p class=\"title\"><b>The Dormouse's story</b></p>\n",
            "<p class=\"story\">Once upon a time there were three little sisters; and their names were\n",
            "<a class=\"sister\" href=\"http://example.com/elsie\" id=\"link1\">Elsie</a>,\n",
            "<a class=\"sister\" href=\"http://example.com/lacie\" id=\"link2\">Lacie</a> and\n",
            "<a class=\"sister\" href=\"http://example.com/tillie\" id=\"link3\">Tillie</a>;\n",
            "and they lived at the bottom of a well.</p>\n",
            "<p class=\"story\">...</p>\n",
            "</body></html>\n",
            "\n",
            "\n"
          ]
        }
      ]
    },
    {
      "cell_type": "code",
      "source": [],
      "metadata": {
        "id": "78qn2BRxlvR5"
      },
      "execution_count": null,
      "outputs": []
    }
  ]
}